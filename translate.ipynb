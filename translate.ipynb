{
 "cells": [
  {
   "cell_type": "code",
   "execution_count": 15,
   "metadata": {
    "collapsed": true
   },
   "outputs": [
    {
     "name": "stdout",
     "output_type": "stream",
     "text": [
      "Requirement already satisfied: google-cloud-translate in /Library/Frameworks/Python.framework/Versions/3.9/lib/python3.9/site-packages (3.11.1)\r\n",
      "Requirement already satisfied: google-api-core[grpc]!=2.0.*,!=2.1.*,!=2.10.*,!=2.2.*,!=2.3.*,!=2.4.*,!=2.5.*,!=2.6.*,!=2.7.*,!=2.8.*,!=2.9.*,<3.0.0dev,>=1.34.0 in /Library/Frameworks/Python.framework/Versions/3.9/lib/python3.9/site-packages (from google-cloud-translate) (1.34.0)\r\n",
      "Requirement already satisfied: protobuf!=3.20.0,!=3.20.1,!=4.21.0,!=4.21.1,!=4.21.2,!=4.21.3,!=4.21.4,!=4.21.5,<5.0.0dev,>=3.19.5 in /Library/Frameworks/Python.framework/Versions/3.9/lib/python3.9/site-packages (from google-cloud-translate) (3.19.5)\r\n",
      "Requirement already satisfied: proto-plus<2.0.0dev,>=1.22.0 in /Library/Frameworks/Python.framework/Versions/3.9/lib/python3.9/site-packages (from google-cloud-translate) (1.22.2)\r\n",
      "Requirement already satisfied: google-cloud-core<3.0.0dev,>=1.3.0 in /Library/Frameworks/Python.framework/Versions/3.9/lib/python3.9/site-packages (from google-cloud-translate) (1.7.3)\r\n",
      "Requirement already satisfied: googleapis-common-protos<2.0dev,>=1.56.2 in /Library/Frameworks/Python.framework/Versions/3.9/lib/python3.9/site-packages (from google-api-core[grpc]!=2.0.*,!=2.1.*,!=2.10.*,!=2.2.*,!=2.3.*,!=2.4.*,!=2.5.*,!=2.6.*,!=2.7.*,!=2.8.*,!=2.9.*,<3.0.0dev,>=1.34.0->google-cloud-translate) (1.59.0)\r\n",
      "Requirement already satisfied: requests<3.0.0dev,>=2.18.0 in /Library/Frameworks/Python.framework/Versions/3.9/lib/python3.9/site-packages (from google-api-core[grpc]!=2.0.*,!=2.1.*,!=2.10.*,!=2.2.*,!=2.3.*,!=2.4.*,!=2.5.*,!=2.6.*,!=2.7.*,!=2.8.*,!=2.9.*,<3.0.0dev,>=1.34.0->google-cloud-translate) (2.28.1)\r\n",
      "Requirement already satisfied: google-auth<3.0dev,>=1.25.0 in /Library/Frameworks/Python.framework/Versions/3.9/lib/python3.9/site-packages (from google-api-core[grpc]!=2.0.*,!=2.1.*,!=2.10.*,!=2.2.*,!=2.3.*,!=2.4.*,!=2.5.*,!=2.6.*,!=2.7.*,!=2.8.*,!=2.9.*,<3.0.0dev,>=1.34.0->google-cloud-translate) (1.35.0)\r\n",
      "Requirement already satisfied: grpcio-status<2.0dev,>=1.33.2 in /Library/Frameworks/Python.framework/Versions/3.9/lib/python3.9/site-packages (from google-api-core[grpc]!=2.0.*,!=2.1.*,!=2.10.*,!=2.2.*,!=2.3.*,!=2.4.*,!=2.5.*,!=2.6.*,!=2.7.*,!=2.8.*,!=2.9.*,<3.0.0dev,>=1.34.0->google-cloud-translate) (1.48.2)\r\n",
      "Requirement already satisfied: grpcio<2.0dev,>=1.33.2 in /Library/Frameworks/Python.framework/Versions/3.9/lib/python3.9/site-packages (from google-api-core[grpc]!=2.0.*,!=2.1.*,!=2.10.*,!=2.2.*,!=2.3.*,!=2.4.*,!=2.5.*,!=2.6.*,!=2.7.*,!=2.8.*,!=2.9.*,<3.0.0dev,>=1.34.0->google-cloud-translate) (1.54.0)\r\n",
      "Requirement already satisfied: six>=1.12.0 in /Library/Frameworks/Python.framework/Versions/3.9/lib/python3.9/site-packages (from google-cloud-core<3.0.0dev,>=1.3.0->google-cloud-translate) (1.16.0)\r\n",
      "Requirement already satisfied: pyasn1-modules>=0.2.1 in /Library/Frameworks/Python.framework/Versions/3.9/lib/python3.9/site-packages (from google-auth<3.0dev,>=1.25.0->google-api-core[grpc]!=2.0.*,!=2.1.*,!=2.10.*,!=2.2.*,!=2.3.*,!=2.4.*,!=2.5.*,!=2.6.*,!=2.7.*,!=2.8.*,!=2.9.*,<3.0.0dev,>=1.34.0->google-cloud-translate) (0.2.8)\r\n",
      "Requirement already satisfied: cachetools<5.0,>=2.0.0 in /Library/Frameworks/Python.framework/Versions/3.9/lib/python3.9/site-packages (from google-auth<3.0dev,>=1.25.0->google-api-core[grpc]!=2.0.*,!=2.1.*,!=2.10.*,!=2.2.*,!=2.3.*,!=2.4.*,!=2.5.*,!=2.6.*,!=2.7.*,!=2.8.*,!=2.9.*,<3.0.0dev,>=1.34.0->google-cloud-translate) (4.2.4)\r\n",
      "Requirement already satisfied: setuptools>=40.3.0 in /Library/Frameworks/Python.framework/Versions/3.9/lib/python3.9/site-packages (from google-auth<3.0dev,>=1.25.0->google-api-core[grpc]!=2.0.*,!=2.1.*,!=2.10.*,!=2.2.*,!=2.3.*,!=2.4.*,!=2.5.*,!=2.6.*,!=2.7.*,!=2.8.*,!=2.9.*,<3.0.0dev,>=1.34.0->google-cloud-translate) (56.0.0)\r\n",
      "Requirement already satisfied: rsa<5,>=3.1.4 in /Library/Frameworks/Python.framework/Versions/3.9/lib/python3.9/site-packages (from google-auth<3.0dev,>=1.25.0->google-api-core[grpc]!=2.0.*,!=2.1.*,!=2.10.*,!=2.2.*,!=2.3.*,!=2.4.*,!=2.5.*,!=2.6.*,!=2.7.*,!=2.8.*,!=2.9.*,<3.0.0dev,>=1.34.0->google-cloud-translate) (4.9)\r\n",
      "Requirement already satisfied: urllib3<1.27,>=1.21.1 in /Library/Frameworks/Python.framework/Versions/3.9/lib/python3.9/site-packages (from requests<3.0.0dev,>=2.18.0->google-api-core[grpc]!=2.0.*,!=2.1.*,!=2.10.*,!=2.2.*,!=2.3.*,!=2.4.*,!=2.5.*,!=2.6.*,!=2.7.*,!=2.8.*,!=2.9.*,<3.0.0dev,>=1.34.0->google-cloud-translate) (1.26.12)\r\n",
      "Requirement already satisfied: charset-normalizer<3,>=2 in /Library/Frameworks/Python.framework/Versions/3.9/lib/python3.9/site-packages (from requests<3.0.0dev,>=2.18.0->google-api-core[grpc]!=2.0.*,!=2.1.*,!=2.10.*,!=2.2.*,!=2.3.*,!=2.4.*,!=2.5.*,!=2.6.*,!=2.7.*,!=2.8.*,!=2.9.*,<3.0.0dev,>=1.34.0->google-cloud-translate) (2.1.1)\r\n",
      "Requirement already satisfied: idna<4,>=2.5 in /Library/Frameworks/Python.framework/Versions/3.9/lib/python3.9/site-packages (from requests<3.0.0dev,>=2.18.0->google-api-core[grpc]!=2.0.*,!=2.1.*,!=2.10.*,!=2.2.*,!=2.3.*,!=2.4.*,!=2.5.*,!=2.6.*,!=2.7.*,!=2.8.*,!=2.9.*,<3.0.0dev,>=1.34.0->google-cloud-translate) (3.4)\r\n",
      "Requirement already satisfied: certifi>=2017.4.17 in /Library/Frameworks/Python.framework/Versions/3.9/lib/python3.9/site-packages (from requests<3.0.0dev,>=2.18.0->google-api-core[grpc]!=2.0.*,!=2.1.*,!=2.10.*,!=2.2.*,!=2.3.*,!=2.4.*,!=2.5.*,!=2.6.*,!=2.7.*,!=2.8.*,!=2.9.*,<3.0.0dev,>=1.34.0->google-cloud-translate) (2022.12.7)\r\n",
      "Requirement already satisfied: pyasn1<0.5.0,>=0.4.6 in /Library/Frameworks/Python.framework/Versions/3.9/lib/python3.9/site-packages (from pyasn1-modules>=0.2.1->google-auth<3.0dev,>=1.25.0->google-api-core[grpc]!=2.0.*,!=2.1.*,!=2.10.*,!=2.2.*,!=2.3.*,!=2.4.*,!=2.5.*,!=2.6.*,!=2.7.*,!=2.8.*,!=2.9.*,<3.0.0dev,>=1.34.0->google-cloud-translate) (0.4.8)\r\n",
      "\r\n",
      "\u001B[1m[\u001B[0m\u001B[34;49mnotice\u001B[0m\u001B[1;39;49m]\u001B[0m\u001B[39;49m A new release of pip is available: \u001B[0m\u001B[31;49m23.0\u001B[0m\u001B[39;49m -> \u001B[0m\u001B[32;49m23.1\u001B[0m\r\n",
      "\u001B[1m[\u001B[0m\u001B[34;49mnotice\u001B[0m\u001B[1;39;49m]\u001B[0m\u001B[39;49m To update, run: \u001B[0m\u001B[32;49mpip install --upgrade pip\u001B[0m\r\n"
     ]
    }
   ],
   "source": [
    "! pip install google-cloud-translate"
   ]
  },
  {
   "cell_type": "code",
   "execution_count": 16,
   "outputs": [],
   "source": [
    "from google.cloud import translate_v2 as translate"
   ],
   "metadata": {
    "collapsed": false,
    "pycharm": {
     "name": "#%%\n"
    }
   }
  },
  {
   "cell_type": "code",
   "execution_count": 17,
   "outputs": [],
   "source": [],
   "metadata": {
    "collapsed": false,
    "pycharm": {
     "name": "#%%\n"
    }
   }
  },
  {
   "cell_type": "code",
   "execution_count": 27,
   "outputs": [],
   "source": [
    "# translate_client = translate.Client.from_service_account_json(keyfile_path)"
   ],
   "metadata": {
    "collapsed": false,
    "pycharm": {
     "name": "#%%\n"
    }
   }
  },
  {
   "cell_type": "code",
   "execution_count": 19,
   "outputs": [],
   "source": [
    "import pandas as pd\n",
    "import numpy as np"
   ],
   "metadata": {
    "collapsed": false,
    "pycharm": {
     "name": "#%%\n"
    }
   }
  },
  {
   "cell_type": "code",
   "execution_count": 20,
   "outputs": [],
   "source": [
    "data1 = pd.read_excel('/Users/serragoker/PycharmProjects/ty2023/ulker_cikolata_allstar.xlsx')\n",
    "data2 = pd.read_excel('/Users/serragoker/PycharmProjects/ty2023/ulker_efsane_atistirmalik.xlsx')\n",
    "data3 = pd.read_excel('/Users/serragoker/PycharmProjects/ty2023/ulker_sutlu_pul_cikolata.xlsx')"
   ],
   "metadata": {
    "collapsed": false,
    "pycharm": {
     "name": "#%%\n"
    }
   }
  },
  {
   "cell_type": "code",
   "execution_count": 21,
   "outputs": [],
   "source": [
    "text1 = data1['Reviews']\n",
    "text2 = data2['Reviews']\n",
    "text3 = data3['Reviews']"
   ],
   "metadata": {
    "collapsed": false,
    "pycharm": {
     "name": "#%%\n"
    }
   }
  },
  {
   "cell_type": "code",
   "execution_count": 22,
   "outputs": [],
   "source": [
    "source_language = \"tr\"\n",
    "target_language = \"en\""
   ],
   "metadata": {
    "collapsed": false,
    "pycharm": {
     "name": "#%%\n"
    }
   }
  },
  {
   "cell_type": "code",
   "execution_count": 23,
   "outputs": [],
   "source": [
    "translate1 = []\n",
    "translate2 = []\n",
    "translate3= []\n"
   ],
   "metadata": {
    "collapsed": false,
    "pycharm": {
     "name": "#%%\n"
    }
   }
  },
  {
   "cell_type": "code",
   "execution_count": 24,
   "outputs": [],
   "source": [
    "# for line in text1:\n",
    "#     result = translate_client.translate(line, source_language=source_language, target_language=target_language)\n",
    "#     translate1.append(result)\n"
   ],
   "metadata": {
    "collapsed": false,
    "pycharm": {
     "name": "#%%\n"
    }
   }
  },
  {
   "cell_type": "code",
   "execution_count": 28,
   "outputs": [],
   "source": [
    "# for line in text2:\n",
    "#     result = translate_client.translate(line, source_language=source_language, target_language=target_language)\n",
    "#     translate2.append(result)"
   ],
   "metadata": {
    "collapsed": false,
    "pycharm": {
     "name": "#%%\n"
    }
   }
  },
  {
   "cell_type": "code",
   "execution_count": 29,
   "outputs": [],
   "source": [
    "\n",
    "# for line in text3:\n",
    "#     result = translate_client.translate(line, source_language=source_language, target_language=target_language)\n",
    "#     translate3.append(result)"
   ],
   "metadata": {
    "collapsed": false,
    "pycharm": {
     "name": "#%%\n"
    }
   }
  },
  {
   "cell_type": "code",
   "execution_count": 30,
   "outputs": [
    {
     "data": {
      "text/plain": "[{'translatedText': 'Bought for my nephews', 'input': 'yeğenlerim için aldim'},\n {'translatedText': 'The product came as in the photo, I bought it as a birthday gift for my wife, she liked it very much',\n  'input': 'Ürün fotoğraftaki gibi geldi, eşime  doğum günü hediyesi olarak aldım çok beğendi'},\n {'translatedText': 'Neither more nor less was seen, all of them had an expiration date too far.',\n  'input': 'Ne eksik ne fazla tam görüldü hepsininde son kullanma tarihi baya öndedi'},\n {'translatedText': 'it was beautiful...❤👍', 'input': 'güzeldi...❤👍'},\n {'translatedText': 'I bought it for 54 on sale, the price has gone up',\n  'input': 'indirimde 54 e almıştım fiyat uçmuş'},\n {'translatedText': 'thank you country', 'input': 'ülkere teşekkür ederim'},\n {'translatedText': 'I bought the product from a link because there was a discount, but then he saw that I bought it expensively, those links are always deceiving the man.',\n  'input': 'Ürünü indirim var diye bir linkten aldım elime ulaştı ama daha sonra baktı ki pahalıya almışım o linkler hep kandırıyor Adamı'},\n {'translatedText': 'Seems pretty appropriate',\n  'input': 'Baya uyguna geliyor'},\n {'translatedText': 'It was fresh and good', 'input': 'Taze ve güzeldi'},\n {'translatedText': 'this is a nice product', 'input': 'güzel bir üründür bu'},\n {'translatedText': 'Very nice 👍 I recommend',\n  'input': 'Çok güzel 👍 tavsiye ederim'},\n {'translatedText': 'cute package', 'input': 'Sevimli paket'},\n {'translatedText': 'My brother is studying abroad, I sent it as a gift, he was very happy :)',\n  'input': 'Kardeşim şehir dışında okuyor hediye olarak gönderdim çok mutlu olmuş :)'},\n {'translatedText': 'very affordable',\n  'input': 'çok hesapliya denk geldi alinir'},\n {'translatedText': 'great fresh arrived unbroken',\n  'input': 'harika tazecik kırılmadan elime ulaştı'},\n {'translatedText': 'I got it on sale as a gift',\n  'input': 'Hediye olarak indirimden almıştım'},\n {'translatedText': 'Bought as a gift card, it was liked thank you',\n  'input': 'Karne hediyesi aldım beğenildi teşekkürler'},\n {'translatedText': 'nice product', 'input': 'Güzel bir ürün'},\n {'translatedText': 'It was good, successful', 'input': 'Güzeldi başarılı'},\n {'translatedText': 'Savior when preparing for super exams',\n  'input': 'Süper sınavlara hazırlanırken kurtarıcı'},\n {'translatedText': 'Very very good packaging content, I&#39;m following the discounts',\n  'input': 'Çok çok iyi paketlenmesi içeriği indirimleri takipteyim'},\n {'translatedText': 'very nice box full gift',\n  'input': 'çok güzel kutu  tam hediyelik'},\n {'translatedText': 'i like it very well', 'input': 'çok iyi beğendim'},\n {'translatedText': 'The product arrived without any problems. It came as seen in the picture.',\n  'input': 'Ürün sorunsuz bir şekilde elimize ulaştı.Resimde göründüğü gibi geldi.'},\n {'translatedText': 'VERY NICE AND FAST SHIPPING',\n  'input': 'ÇOK GÜZEL VE HIZLI KARGO'},\n {'translatedText': 'I bought it to surprise my son, he liked it very much.',\n  'input': 'Oğluma süpriz yapmak için aldım çok beğendik.'},\n {'translatedText': 'The detailed package is very nice.',\n  'input': 'detayli paket gayet güzel'},\n {'translatedText': 'products are fresh on time delivery .. it&#39;s just annoying that you constantly play around with prices. 1 star off for it',\n  'input': 'ürünler taze zamanında teslimat .. yanlız sürekli fiyatlar la oynamanız can sıkıcı.   1 yıldız onun için kırdım'},\n {'translatedText': 'sakkoy was missing but other than that it was good',\n  'input': 'saklıköy eksik geldi onun dışında iyiydi'},\n {'translatedText': 'came at a great price',\n  'input': 'cok uygun fiyata geldi'},\n {'translatedText': 'it was nice i like it', 'input': 'Güzeldi beğendim'},\n {'translatedText': 'I bought it when it was on sale. a very nice gift to make a child happy',\n  'input': 'indirimdeyken almıştım. bir çocuğu sevindirecek çok güzel bir hediye'},\n {'translatedText': 'came as i expected', 'input': 'beklediğim gibi geldi'},\n {'translatedText': 'Love it ❤️❤️❤️', 'input': 'Seve sevi ❤️❤️❤️'},\n {'translatedText': 'It was packaged very well, I bought a gift for my friend, he was very happy',\n  'input': 'Gayet güzel paketlenmistj arkadaşıma hediye aldım cok sevindi'},\n {'translatedText': 'It did not come with a packaging as seen in the picture.',\n  'input': 'Görsel de gözüktüğü gibi bi paketleme yapılarak gelmedi'},\n {'translatedText': 'All products arrived without any problems. Pretty good for the price too.',\n  'input': 'Bütün ürünler sorunsuz geldi. Fiyat olarak da gayet iyi.'},\n {'translatedText': 'I like it, it&#39;s just due to shipping, I think it&#39;s crushed apart from it, no problem, Bless you 😊',\n  'input': 'Beğendim Sadece Kargodan Kaynaklı Sanırım Ezilmiş onun Dışında Sıkıntı yok Kesenize Bereket 😊'},\n {'translatedText': 'Wonderland', 'input': 'harikalar diyarı'},\n {'translatedText': 'very nice perfect', 'input': 'çok güzel mükemmel'},\n {'translatedText': 'no deterioration no staleness can be taken safely',\n  'input': 'bozulma yok bayatlama yok güvenle alına bilir'},\n {'translatedText': 'very good package i recommend',\n  'input': 'çok iyi bir paket tavsiye ederim'},\n {'translatedText': 'The products arrived complete. also had a long expiration date',\n  'input': 'ürünler tam geldi. kullanma tarihi de uzun süreliydi'},\n {'translatedText': 'I bought it from the promotion. Reasonable price. Fast shipping.',\n  'input': 'Kampanyadan aldım. Uygun fiyat. Hızlı kargo.'},\n {'translatedText': 'thanks for fast shipping',\n  'input': 'hızlı kargo için teşekkür'},\n {'translatedText': 'the campaign is nice', 'input': 'kampanya güzel'},\n {'translatedText': 'When there are coupons and discounts, it is cheaper than the market price.',\n  'input': 'kupon ve indirim olunca market fiyatından ucuz oluyor'},\n {'translatedText': 'well received', 'input': 'güzel alınır'},\n {'translatedText': 'We bought it as a surprise gift for our nephews and they were very happy.',\n  'input': 'Yeğenlerimize sürpriz hediye olarak aldık çok sevindiler.'},\n {'translatedText': 'absolutely magnificent',\n  'input': 'muhteşem tam anlamiyla'},\n {'translatedText': 'Bought for birthday we love it',\n  'input': 'Doğum günü için aldım çok sevdik'},\n {'translatedText': 'nice enough parcel', 'input': 'Güzel yeterli koli'},\n {'translatedText': 'good thing i love it',\n  'input': 'iyi ki almışım çok sevdim'},\n {'translatedText': 'I sent it to my nephew as a surprise',\n  'input': 'yeğenime sürpriz olarak gönderdim çok sevindi'},\n {'translatedText': 'oh i wish you were the same price',\n  'input': 'ah keşke aynı fiyata insen'},\n {'translatedText': 'Very good', 'input': 'Çok güzel'},\n {'translatedText': 'so delicious', 'input': 'çok lezzetli'},\n {'translatedText': 'We buy it at a very affordable price by following the super package discounts.',\n  'input': 'süper paket indirimleri takip ederek çok uygun fiyata alıyoruz'},\n {'translatedText': 'pretty good', 'input': 'gayet güzel'},\n {'translatedText': 'I wish the prices were the same as before',\n  'input': 'Eskisi gibi olsa keşke fiyatlar'},\n {'translatedText': 'arrived safely thank you',\n  'input': 'sorunsuz elimize ulaştı teşekkür ederiz'},\n {'translatedText': 'Fast shipping was nice, I like it',\n  'input': 'Hızlı kargo guzeldı begendım'},\n {'translatedText': 'the price is affordable',\n  'input': 'fiyattı  uygun alınabilir'},\n {'translatedText': 'I bought a gift for my little niece, it arrived quickly and without any problems.',\n  'input': 'Küçük yeğenime hediye almıştım, sorunsuz ve çabuk ulaştı.'},\n {'translatedText': 'very good package', 'input': 'Çok iyi bir paket'},\n {'translatedText': 'I bought it for 25tl, it was on sale. The dates were good, everything came perfectly, thank you',\n  'input': 'ben 25tl den aldım çok indirimde idi . tarihleri iyidi herşey tam geldi teşekkürler'},\n {'translatedText': 'The packaging was good, it arrived intact.',\n  'input': 'paketleme güzeldi sağlam elime ulaştı.'},\n {'translatedText': 'great kids loved it',\n  'input': 'harika cocuklar cok sevdi'},\n {'translatedText': 'So beautiful 😍', 'input': 'Çok güzel 😍'},\n {'translatedText': 'I bought two but they canceled one without asking me. Arrived in 6 days with Mng',\n  'input': 'İki tane aldım ama birini bana sormadan iptal ettiler. Mng ile 6 günde elime ulaştı'},\n {'translatedText': 'It&#39;s very sweet and nice',\n  'input': 'çok tatlı ve güzel'},\n {'translatedText': 'very nice thank you',\n  'input': 'Çok güzel teşekkür ederim'},\n {'translatedText': 'All came fresh', 'input': 'Hepsi taze geldi'},\n {'translatedText': 'I like the product', 'input': 'Ürünü beğendim'},\n {'translatedText': 'All of them looked exactly the same as in the picture, but the price went up in 10 days, I officially gave 3 stars for him, I bought two packages for 160 TL, now one package is 150 TL, it&#39;s a shame, it&#39;s really a pity for these prices.',\n  'input': 'Hepsi görseldeki gibi birebir aynı geldi fakat 10 gün içinde fiyat uçtu resmen onun için 3 yıldız verdim iki paket 160 tlye almıştım şuan tek paket 150 tl yazık bu fiyatlara gerçekten yazık'},\n {'translatedText': 'I bought a gift for my friend, they all arrived beautifully, he was very happy 😻',\n  'input': 'Arkadaşıma hediye aldım, hepsi güzelce yerine ulaşmış, çok mutlu oldu 😻'},\n {'translatedText': 'fresh very nice', 'input': 'taze çok güzel'},\n {'translatedText': 'products were good', 'input': 'ürünler guzeldi'},\n {'translatedText': 'There is no problem except that there is a lot of chocolate and similar products in it, biscuits were in the minority.',\n  'input': 'içinden bolca çikolata ve benzeri ürün çıkmasından başka sorun yok bisküvi daha azınlıktaydı'},\n {'translatedText': 'It came better than I expected, will order again',\n  'input': 'Beklediğimden güzel geldi yine sipariş vereceğin'},\n {'translatedText': 'so beautiful ✨✨✨✨', 'input': 'çok güzel ✨✨✨✨'},\n {'translatedText': '5 stars is a small but nice package but not available anymore, I bought it at a discount',\n  'input': '5 yıldız küçük ama güzel bir paket ama artık alınmaz ben indirimden almistim'},\n {'translatedText': 'I sent it to my son he loved it',\n  'input': 'Oğluma gönderdim çok beğendi'},\n {'translatedText': 'Bought it as a Christmas present, it was pretty late, but it was liked a lot.',\n  'input': 'Yılbaşı hediyesi olarak aldım baya geç gitti ama çok beğenildi.'},\n {'translatedText': 'I always buy great package',\n  'input': 'Sürekli alıyorum harika paket'},\n {'translatedText': 'I will order again but it&#39;s out of stock 😔',\n  'input': 'tekrar sipariş vericem ama tükenmiş 😔'},\n {'translatedText': 'I sent the product as a gift to my friend and he liked it very much. You made my request for the note, thank you very much.',\n  'input': 'ürünü arkadaşıma hediye gönderdim çok beğendi.Not istegimi de yapmışsınız çok teşekkür ederim'},\n {'translatedText': 'Ülker quality is a product I always buy.',\n  'input': 'Ülker kalitesi her zman aldığım bi ürün'},\n {'translatedText': 'number ten 5 stars very affordable',\n  'input': 'on numara 5 yıldız çok uygun aldim'},\n {'translatedText': 'It came in perfect condition, thank you very much',\n  'input': 'çok güzel eksiksiz bir şekilde geldi teşekkür ederim'},\n {'translatedText': 'The product is fine', 'input': 'Ürün gayet iyi'},\n {'translatedText': 'good good good', 'input': 'good good good'},\n {'translatedText': 'It is more convenient to buy one by one.',\n  'input': 'tek tek almak daha uygun'},\n {'translatedText': 'We bought products that we love to consume at affordable prices.',\n  'input': 'Severek tükettiğimiz ürünleri uygun fiyata aldık.'},\n {'translatedText': 'products are fresh', 'input': 'ürünler taze memnunum'},\n {'translatedText': 'Fresh beautiful packaging',\n  'input': 'Taze güzel paketleme'},\n {'translatedText': 'The price is increasing day by day',\n  'input': 'Her geçen gün fiyatı artıyor'},\n {'translatedText': 'There are some broken biscuits. It came perfectly, thank you',\n  'input': 'Bisküvilerden kırılanlar var. Eksiksiz geldi, teşekkürler'},\n {'translatedText': 'got a gift liked it', 'input': 'hediye aldım begenildi'},\n {'translatedText': 'was missing 3 5 pieces', 'input': 'eksikti 3 5 parca'},\n {'translatedText': 'we like it nice', 'input': 'Beğendik güzel'},\n {'translatedText': 'thanks for fast shipping',\n  'input': 'teşekkürler hizli kargo için'},\n {'translatedText': 'GOOD PRODUCT', 'input': 'GÜZEL ÜRÜN'},\n {'translatedText': 'All of my products were broken and everything inside was crumbled, officially 😔it was a delivery that did not suit Ülker... Missing product came out',\n  'input': 'Ürünlerimi hepsi kırılmış ve içinde ki herşey ufalanmış resmen 😔yazık Ülker firmasına yakışmayan bir teslimat oldu… Eksik ürün çıktı'},\n {'translatedText': 'HOUSEHOLD PEOPLE WELCOMED WITH GREAT EXCITATION, NO PACKAGE, NO PRICE, THANKS ACCORDING TO SUITABLE MARKETS',\n  'input': 'EV HALKI BÜYÜK HEYCANLA KARŞILADI KOLİDE YOK YOK FİYATIDA GAYET UYGUN MARKETLERE GÖRE TEŞEKKÜRLER'},\n {'translatedText': 'I commented &quot;if the cargo had arrived, I could have liked it, that&#39;s why 👎&quot; and I ordered for the second time. this time it was delivered to me without any problems.. the package is great. The discounted version was very convenient. Luckily, the contents reached me completely and undamaged..😪 the box may seem small to you but it is full inside..',\n  'input': '\"kargo elime ulassaydi eger begenebilirdim o yuzden 👎\" yorumunu yapmistim ve 2. kez siparis werdim. bu sefer sorunsuz elime ulastirildi.. paket bi harika. indirimli hali cok uygun oldu. icindekiler eksikssiz ve zarar gormemis bi sekilde ulasti elime neyse ki..😪 kutu gozunuze kucuk gelebilir ama ici dopdolu..'},\n {'translatedText': 'a perfect package', 'input': 'Mükemmel bir paket'},\n {'translatedText': 'very good quality indeed',\n  'input': 'çok kaliteli gerçekten'},\n {'translatedText': 'legendary tastes and delicious on trendyol, I bought it cheaply, thanks for the careful shipping',\n  'input': 'efsane tadlar ve lezzetli trendyolda hesapli aldim  özenli kargo için teşekkürler'},\n {'translatedText': 'no problem no problem it was good',\n  'input': 'sorunsorun sıkıntı yok iyiydi'},\n {'translatedText': 'It contained what was promised. There was nothing wrong thank you',\n  'input': 'Ne vad edildiyse o vardı içinde . Eksik yoktu teşekkürler'},\n {'translatedText': 'No, no, it&#39;s a depression gift for a depressed friend',\n  'input': 'içinde yok yok tam morali bozuk arkadaşa depresyon hediyesi'},\n {'translatedText': 'bought on sale, all fresh',\n  'input': 'indirimde aldım hepsi taptaze'},\n {'translatedText': 'Not bad for the price',\n  'input': 'Fiyatına göre fena değil'},\n {'translatedText': 'they&#39;re all so nice',\n  'input': 'hepsi birbirinden güzel'},\n {'translatedText': 'we like it delicious', 'input': 'lezzetli beğendik'},\n {'translatedText': 'very nice product',\n  'input': 'cok begendık cok tatlıs bır urun'},\n {'translatedText': 'thank you', 'input': 'tesekurleer'},\n {'translatedText': 'they were all very delicious, it would be even better if there was no discount',\n  'input': 'hepsi çok lezetliydi bide indirim olmasa dahada güzel olur'},\n {'translatedText': 'We had a problem with shipping, but suitable and favorite snacks 🌼',\n  'input': 'kargoda sıkıntı yaşadık ama uygun ve sevdiğim atıştırmalıklar 🌼'},\n {'translatedText': 'Looks just like it would recommend',\n  'input': 'göründüğü gibi geldi tavsiye ederim'},\n {'translatedText': 'I have been provided with discounted packaging',\n  'input': 'İndirimde alınabilir paketleme sağlandım'},\n {'translatedText': 'EVERYTHING WAS AMAZING....',\n  'input': 'HARİKAYDI HER ŞEY ....'},\n {'translatedText': 'I did not receive the product, the courier wrote that it was delivered without sending it to me, my cargo is missing 😞 I called Aras cargo and they do not return, my children&#39;s enthusiasm remained in their crops 😞 Update: the fee was returned, thank you for your attention',\n  'input': 'Ürün elime geçmedi,kargocu bana iletmeden teslim edildi yazmış,kargom kayıp😞 Aras kargoyu aradım geri dönüş de yapmıyorlar,çocuklarımın hevesleri kursaklarında kaldı 😞Güncelleme: ücret iade edildi,teşekkür ederim ilginize'},\n {'translatedText': 'thanks', 'input': 'teşekkürler'},\n {'translatedText': 'It was very nice, it arrived perfectly',\n  'input': 'Çok güzeldi eksiksiz ulaştı elime'},\n {'translatedText': 'fast shipping nice package.',\n  'input': 'hızlı kargo güzel paket.'},\n {'translatedText': 'it&#39;s pretty cheap...',\n  'input': 'gayet ucuza geliyor...'},\n {'translatedText': 'full snack thanks',\n  'input': 'tam atıştırmalık teşekkürler'},\n {'translatedText': 'Came just like in the photo',\n  'input': 'Fotoğraftaki gibi geldi'},\n {'translatedText': 'it&#39;s nice, we like it', 'input': 'güzeldir begendik'},\n {'translatedText': 'please don&#39;t make a deal with mng cargo It&#39;s been 2 weeks and I spent all my time searching trendway in this process, no one helped me, I went to the feet of the men, I bought it, I came back so give up',\n  'input': 'lütfen mng kargoyla anlaşma yapmayın 2 hafta oldu ve ben bu süreçte tüm saatimi trendyolu arayarak keçirdim kimse yardımcı olmadı adamların ayağına kadar gittim aldım geldim pes yani'},\n {'translatedText': 'I sent it to my nephew as a gift, he was very happy, thank you Ülker',\n  'input': 'Yeğenime hediye olarak gönderdim çok mutlu oldu teşekkür ederim ülker'},\n {'translatedText': 'excellent product thank you',\n  'input': 'mükemmel bir ürün teşekkür ediyorum'},\n {'translatedText': 'my son loved it', 'input': 'oğlum çok sevdi'},\n {'translatedText': 'good seller.. recommend',\n  'input': 'kaliteli satıcı.. tavsiye ederim'},\n {'translatedText': 'I always make children happy ☺️',\n  'input': 'Çocukları mutlu edeşim her zaman ☺️'},\n {'translatedText': 'I ate done :D', 'input': 'Yedim bitti :D'},\n {'translatedText': 'advantageous product', 'input': 'avantajlı ürün'},\n {'translatedText': 'al insaf what happened, did war break out, 30 percent raise in 1 month',\n  'input': 'el insaf ne oldu  savaş mi çıktı 1 ayda yüzde 30 zam geldi'},\n {'translatedText': 'Those beautiful products I bought for 30 liras….. I don&#39;t have money now, I can&#39;t buy it, the packaging would be fine',\n  'input': '30 liraya aldığım o güzelim ürünler….. simdi param yok alamam paketlemesi idare ederdi'},\n {'translatedText': 'product came as expected',\n  'input': 'ürün göründüğü gibi geldi'},\n {'translatedText': 'I bought it when there was a discount, the package content is good, I recommend it.',\n  'input': 'indirim varken almıştım paket içeriği güzel tavsiye ederim.'},\n {'translatedText': 'I bought 2 packages, the dates were not over, the products arrived exactly, we loved it',\n  'input': '2 paket aldım tarihleri geçmemişti ürünler tam geldi çok sevdik'},\n {'translatedText': 'it was very nice', 'input': 'çok guzeldi'},\n {'translatedText': 'All of the products came in dented and broken packages, I wonder whose fault it is?',\n  'input': 'ürünlerin hepsi paketler ezik ve kırık geldi suç kimin acaba'},\n {'translatedText': 'Discount can be tracked and obtained',\n  'input': 'İndirim takip edilip alınabilir'},\n {'translatedText': 'my brother liked it very much',\n  'input': 'kardeşim çok beğendi'},\n {'translatedText': 'Bought as a gift for my brother, he loved it',\n  'input': 'Kardeşime hediye olarak aldım çok beğendiler'},\n {'translatedText': 'I buy some of my favorite boxes from time to time.',\n  'input': 'en sevdiğim kutulardan ara ara alıyorum'},\n {'translatedText': 'Bought as a gift for my brother he loved it',\n  'input': 'Kardeşime hediye aldım çok beğendi'},\n {'translatedText': 'went well and quickly',\n  'input': 'eksiksiz ve çabuk gitti'},\n {'translatedText': 'Price performance', 'input': 'Fiyat performans'},\n {'translatedText': 'very good nice', 'input': 'cok iyi guzel'},\n {'translatedText': 'It came complete. I would like to thank the Ülker family. If there were more discounts and we could buy more often 😂',\n  'input': 'Eksiksiz bir şekilde geldi. Ülker ailesine teşekkür ediyorum. Daha fazla indirim yapılsa ve bizde daha sık alabilsek 😂'},\n {'translatedText': 'We bought it for a price of 86 TL. Product dates are for 1 road later. If it was bought from the market, it would be double the price. Thank you train💁\\u200d♀️',\n  'input': '86 tl gibi bir fiyata aldık. Ürün tarihleri 1 yol sonrası için. Marketten alınsa 2 katı fiyat ödenirdi. Teşekkürler trenyol💁\\u200d♀️'},\n {'translatedText': 'they are so beautiful', 'input': 'Çok güzeller'},\n {'translatedText': 'I bought it for my grandma. using for a long time',\n  'input': 'Anneannem için aldım. Uzun süre kullanıyor'},\n {'translatedText': 'very fast and reliable seller thanks trendyol Ülker difference',\n  'input': 'çok hızlı ve  güvenilir satıcı tşkler trendyol Ülker farki'},\n {'translatedText': 'All of them came in a very nice way without any problems, if we bought them outside one by one, it wouldn&#39;t come at this price.',\n  'input': 'Hepsi sıkıntısız çok güzel bir şekilde geldi dışarıda tek tek alsak bu fiyata gelmezdi'},\n {'translatedText': 'The product arrived without any problems, fast shipping thank you ☺️',\n  'input': 'Ürün sorunsuz elime ulaştı, hızlı kargo teşekkürler ☺️'},\n {'translatedText': 'It came quickly, I bought it on sale',\n  'input': 'cabuk geldi indirimde almıştım'},\n {'translatedText': 'great product, we like it very much',\n  'input': 'harika bı ürün çok begendik'},\n {'translatedText': 'Ulker quality is good. but the biscuits were broken.',\n  'input': 'ulker kalitesi guzel. ancak biskuviler kirilmisti.'},\n {'translatedText': 'we ate a very sweet box',\n  'input': 'çok tatlı bir kutu severek yedik'},\n {'translatedText': 'The products are as I expected, the price and packaging are nice, they have too many expiration dates',\n  'input': 'ürünler beklediğim gibi fiyat ve paketleme güzel son Kullanma tarihlerine de çok var'},\n {'translatedText': 'nice package for snack, more profitable than buying one by one',\n  'input': 'atıştırmalık için güzel paket,tek tek almaktan daha karlı'},\n {'translatedText': 'I liked it great.', 'input': 'Harika beğendim.'},\n {'translatedText': 'Thank you very much, it came as I wanted',\n  'input': 'çok teşekküler istediğim gibi  geldi'},\n {'translatedText': 'yummy, i recommend',\n  'input': 'Nefisssssss, tavsiye ederim'},\n {'translatedText': 'nice packaging', 'input': 'güzel paketleme'},\n {'translatedText': 'the products are fresh only the shipping came late',\n  'input': 'ürünler taze sadece kargo  gec geldi'},\n {'translatedText': 'I am very satisfied, but the box could have been a little bigger 😅',\n  'input': 'Gayet iyi memnun kaldım ancak kutu biraz daha büyük olabilirdi 😅'},\n {'translatedText': 'we are so happy', 'input': 'Çook mutluyuz'},\n {'translatedText': 'They sent 4 of them missing.',\n  'input': '4 tanesini eksik gonderdiler gorselde ki ve yazanlar gelmiyor'},\n {'translatedText': 'very nice products', 'input': 'çok güzel ürünbler'},\n {'translatedText': 'Ulker, you are amazing. Very nice I bought the packages for 31 TL 😀',\n  'input': 'Ülker harikasınız. Paketleri Çok hoş 31 TL ye almıştım 😀'},\n {'translatedText': 'Every product I buy is definitely missing. I don&#39;t know why I would buy it again.',\n  'input': 'her aldığım ürün mutlaka eksik çıkmıştır.gene neden alırım bilmiyorum artık almıyorum'},\n {'translatedText': 'A small bag full came, don&#39;t picture a parcel in your mind, but an affordable package would be appropriate.',\n  'input': 'Küçük bir poşet dolusu geldi kafanızda koli canlandırmayın ama hesaplı bir paket uyguna geliyor'}]"
     },
     "execution_count": 30,
     "metadata": {},
     "output_type": "execute_result"
    }
   ],
   "source": [
    "translate2"
   ],
   "metadata": {
    "collapsed": false,
    "pycharm": {
     "name": "#%%\n"
    }
   }
  },
  {
   "cell_type": "code",
   "execution_count": 31,
   "outputs": [],
   "source": [
    "translate1_df = pd.DataFrame(translate1)\n",
    "translate2_df = pd.DataFrame(translate2)\n",
    "translate3_df = pd.DataFrame(translate3)"
   ],
   "metadata": {
    "collapsed": false,
    "pycharm": {
     "name": "#%%\n"
    }
   }
  },
  {
   "cell_type": "code",
   "execution_count": 34,
   "outputs": [],
   "source": [
    "data1_shops = data1['Shop']\n",
    "data2_shops = data2['Shop']\n",
    "data3_shops = data3['Shop']"
   ],
   "metadata": {
    "collapsed": false,
    "pycharm": {
     "name": "#%%\n"
    }
   }
  },
  {
   "cell_type": "code",
   "execution_count": 38,
   "outputs": [],
   "source": [
    "translate1_df['Shop'] = data1_shops\n",
    "translate2_df['Shop'] = data2_shops\n",
    "translate3_df['Shop'] = data3_shops"
   ],
   "metadata": {
    "collapsed": false,
    "pycharm": {
     "name": "#%%\n"
    }
   }
  },
  {
   "cell_type": "code",
   "execution_count": 42,
   "outputs": [],
   "source": [
    "translate1_df.to_excel(\"/Users/serragoker/Desktop/ulker_cikolata_allstar_translations.xlsx\")\n",
    "translate2_df.to_excel(\"/Users/serragoker/Desktop/ulker_efsane_atistirmalik_translations.xlsx\")\n",
    "translate3_df.to_excel(\"/Users/serragoker/Desktop/ulker_sutlu_pul_cikolata_translations.xlsx\")"
   ],
   "metadata": {
    "collapsed": false,
    "pycharm": {
     "name": "#%%\n"
    }
   }
  },
  {
   "cell_type": "code",
   "execution_count": 37,
   "outputs": [
    {
     "data": {
      "text/plain": "     Unnamed: 0      Dates                                            Reviews  \\\n0             0 2023-02-05     Devamlı alırım, kalitesinden ödün vermez hiç☺️   \n1             1 2023-02-04                                     Nefis lezzetli   \n2             2 2023-02-01                             çocuklarım çok begendi   \n3             3 2023-01-31                    çok hesapliya denk geldi alinir   \n4             4 2023-01-31             Çok güzel üründü hediyede göndermişler   \n..          ...        ...                                                ...   \n99           99 2022-12-02  harika bir paket,oğluma hediye almıştım .çok m...   \n100         100 2022-12-02                     Hediye gönderdim çok beğenildi   \n101         101 2022-12-01                                    beğendim tşkler   \n102         102 2022-12-01  güzel sağlam paketlenmiş olarak geldi teşekkür...   \n103         103 2022-12-01                 Urunler gayet guzel .. Teşekkürler   \n\n           Shop  \n0    Ülker Shop  \n1    Ülker Shop  \n2    Ülker Shop  \n3    Ülker Shop  \n4    Ülker Shop  \n..          ...  \n99   Ülker Shop  \n100  Ülker Shop  \n101  Ülker Shop  \n102  Ülker Shop  \n103  Ülker Shop  \n\n[104 rows x 4 columns]",
      "text/html": "<div>\n<style scoped>\n    .dataframe tbody tr th:only-of-type {\n        vertical-align: middle;\n    }\n\n    .dataframe tbody tr th {\n        vertical-align: top;\n    }\n\n    .dataframe thead th {\n        text-align: right;\n    }\n</style>\n<table border=\"1\" class=\"dataframe\">\n  <thead>\n    <tr style=\"text-align: right;\">\n      <th></th>\n      <th>Unnamed: 0</th>\n      <th>Dates</th>\n      <th>Reviews</th>\n      <th>Shop</th>\n    </tr>\n  </thead>\n  <tbody>\n    <tr>\n      <th>0</th>\n      <td>0</td>\n      <td>2023-02-05</td>\n      <td>Devamlı alırım, kalitesinden ödün vermez hiç☺️</td>\n      <td>Ülker Shop</td>\n    </tr>\n    <tr>\n      <th>1</th>\n      <td>1</td>\n      <td>2023-02-04</td>\n      <td>Nefis lezzetli</td>\n      <td>Ülker Shop</td>\n    </tr>\n    <tr>\n      <th>2</th>\n      <td>2</td>\n      <td>2023-02-01</td>\n      <td>çocuklarım çok begendi</td>\n      <td>Ülker Shop</td>\n    </tr>\n    <tr>\n      <th>3</th>\n      <td>3</td>\n      <td>2023-01-31</td>\n      <td>çok hesapliya denk geldi alinir</td>\n      <td>Ülker Shop</td>\n    </tr>\n    <tr>\n      <th>4</th>\n      <td>4</td>\n      <td>2023-01-31</td>\n      <td>Çok güzel üründü hediyede göndermişler</td>\n      <td>Ülker Shop</td>\n    </tr>\n    <tr>\n      <th>...</th>\n      <td>...</td>\n      <td>...</td>\n      <td>...</td>\n      <td>...</td>\n    </tr>\n    <tr>\n      <th>99</th>\n      <td>99</td>\n      <td>2022-12-02</td>\n      <td>harika bir paket,oğluma hediye almıştım .çok m...</td>\n      <td>Ülker Shop</td>\n    </tr>\n    <tr>\n      <th>100</th>\n      <td>100</td>\n      <td>2022-12-02</td>\n      <td>Hediye gönderdim çok beğenildi</td>\n      <td>Ülker Shop</td>\n    </tr>\n    <tr>\n      <th>101</th>\n      <td>101</td>\n      <td>2022-12-01</td>\n      <td>beğendim tşkler</td>\n      <td>Ülker Shop</td>\n    </tr>\n    <tr>\n      <th>102</th>\n      <td>102</td>\n      <td>2022-12-01</td>\n      <td>güzel sağlam paketlenmiş olarak geldi teşekkür...</td>\n      <td>Ülker Shop</td>\n    </tr>\n    <tr>\n      <th>103</th>\n      <td>103</td>\n      <td>2022-12-01</td>\n      <td>Urunler gayet guzel .. Teşekkürler</td>\n      <td>Ülker Shop</td>\n    </tr>\n  </tbody>\n</table>\n<p>104 rows × 4 columns</p>\n</div>"
     },
     "execution_count": 37,
     "metadata": {},
     "output_type": "execute_result"
    }
   ],
   "source": [],
   "metadata": {
    "collapsed": false,
    "pycharm": {
     "name": "#%%\n"
    }
   }
  },
  {
   "cell_type": "code",
   "execution_count": null,
   "outputs": [],
   "source": [],
   "metadata": {
    "collapsed": false,
    "pycharm": {
     "name": "#%%\n"
    }
   }
  }
 ],
 "metadata": {
  "kernelspec": {
   "display_name": "Python 3",
   "language": "python",
   "name": "python3"
  },
  "language_info": {
   "codemirror_mode": {
    "name": "ipython",
    "version": 2
   },
   "file_extension": ".py",
   "mimetype": "text/x-python",
   "name": "python",
   "nbconvert_exporter": "python",
   "pygments_lexer": "ipython2",
   "version": "2.7.6"
  }
 },
 "nbformat": 4,
 "nbformat_minor": 0
}