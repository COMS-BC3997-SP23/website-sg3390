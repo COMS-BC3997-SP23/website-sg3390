{
 "cells": [
  {
   "cell_type": "code",
   "execution_count": 5,
   "metadata": {
    "collapsed": true
   },
   "outputs": [],
   "source": [
    "import numpy as np\n",
    "import pandas as pd\n",
    "\n",
    "df = pd.DataFrame()\n",
    "data1 = pd.read_excel('/Users/serragoker/PycharmProjects/ty2023/ulker_cikolata_allstar.xlsx')\n",
    "data2 = pd.read_excel('/Users/serragoker/PycharmProjects/ty2023/ulker_efsane_atistirmalik.xlsx')\n",
    "data3 = pd.read_excel('/Users/serragoker/PycharmProjects/ty2023/ulker_sutlu_pul_cikolata.xlsx')\n",
    "\n",
    "df1 = pd.DataFrame(data1)\n",
    "df2 = pd.DataFrame(data2)\n",
    "df3 = pd.DataFrame(data3)"
   ]
  },
  {
   "cell_type": "code",
   "execution_count": 6,
   "outputs": [
    {
     "data": {
      "text/plain": "          Dates                                            Reviews  \\\n0     02/4/2023   tarihi çok yakın ama eritirken sıkıntı yasamadim   \n1     02/4/2023  Tadı harika bayıldık kahve yanında yiyoruz resmen   \n2     02/2/2023  çok güzel memnun kaldım alalı bayağı oldu oğlu...   \n3     02/2/2023           Çok beğendim taze lezzetli ve çok parlak   \n4     02/1/2023                                  Pahalı pahalııııı   \n..          ...                                                ...   \n115   12/9/2022                                  Ülker kalitesi...   \n116   12/8/2022  çok beğendim. Bu markayı seviyorum zaten. past...   \n117   12/6/2022  Fiyatı sürekli artış göstersede indirim zamanı...   \n118   12/5/2022  Ürün mart SKT li üzeri biraz beyazlamış olarak...   \n119  11/29/2022  Erimeden patlamadan geldi bu şekilde daha hesaplı   \n\n                Shop  \n0    Kitchen Express  \n1    Kitchen Express  \n2    Kitchen Express  \n3    Kitchen Express  \n4    Kitchen Express  \n..               ...  \n115  Kitchen Express  \n116  Kitchen Express  \n117       Ülker Shop  \n118  Kitchen Express  \n119  Kitchen Express  \n\n[120 rows x 3 columns]",
      "text/html": "<div>\n<style scoped>\n    .dataframe tbody tr th:only-of-type {\n        vertical-align: middle;\n    }\n\n    .dataframe tbody tr th {\n        vertical-align: top;\n    }\n\n    .dataframe thead th {\n        text-align: right;\n    }\n</style>\n<table border=\"1\" class=\"dataframe\">\n  <thead>\n    <tr style=\"text-align: right;\">\n      <th></th>\n      <th>Dates</th>\n      <th>Reviews</th>\n      <th>Shop</th>\n    </tr>\n  </thead>\n  <tbody>\n    <tr>\n      <th>0</th>\n      <td>02/4/2023</td>\n      <td>tarihi çok yakın ama eritirken sıkıntı yasamadim</td>\n      <td>Kitchen Express</td>\n    </tr>\n    <tr>\n      <th>1</th>\n      <td>02/4/2023</td>\n      <td>Tadı harika bayıldık kahve yanında yiyoruz resmen</td>\n      <td>Kitchen Express</td>\n    </tr>\n    <tr>\n      <th>2</th>\n      <td>02/2/2023</td>\n      <td>çok güzel memnun kaldım alalı bayağı oldu oğlu...</td>\n      <td>Kitchen Express</td>\n    </tr>\n    <tr>\n      <th>3</th>\n      <td>02/2/2023</td>\n      <td>Çok beğendim taze lezzetli ve çok parlak</td>\n      <td>Kitchen Express</td>\n    </tr>\n    <tr>\n      <th>4</th>\n      <td>02/1/2023</td>\n      <td>Pahalı pahalııııı</td>\n      <td>Kitchen Express</td>\n    </tr>\n    <tr>\n      <th>...</th>\n      <td>...</td>\n      <td>...</td>\n      <td>...</td>\n    </tr>\n    <tr>\n      <th>115</th>\n      <td>12/9/2022</td>\n      <td>Ülker kalitesi...</td>\n      <td>Kitchen Express</td>\n    </tr>\n    <tr>\n      <th>116</th>\n      <td>12/8/2022</td>\n      <td>çok beğendim. Bu markayı seviyorum zaten. past...</td>\n      <td>Kitchen Express</td>\n    </tr>\n    <tr>\n      <th>117</th>\n      <td>12/6/2022</td>\n      <td>Fiyatı sürekli artış göstersede indirim zamanı...</td>\n      <td>Ülker Shop</td>\n    </tr>\n    <tr>\n      <th>118</th>\n      <td>12/5/2022</td>\n      <td>Ürün mart SKT li üzeri biraz beyazlamış olarak...</td>\n      <td>Kitchen Express</td>\n    </tr>\n    <tr>\n      <th>119</th>\n      <td>11/29/2022</td>\n      <td>Erimeden patlamadan geldi bu şekilde daha hesaplı</td>\n      <td>Kitchen Express</td>\n    </tr>\n  </tbody>\n</table>\n<p>120 rows × 3 columns</p>\n</div>"
     },
     "execution_count": 6,
     "metadata": {},
     "output_type": "execute_result"
    }
   ],
   "source": [
    "df1.drop(columns=['Unnamed: 0'])\n",
    "df2.drop(columns=['Unnamed: 0'])\n",
    "df3.drop(columns=['Unnamed: 0'])"
   ],
   "metadata": {
    "collapsed": false,
    "pycharm": {
     "name": "#%%\n"
    }
   }
  },
  {
   "cell_type": "code",
   "execution_count": 7,
   "outputs": [],
   "source": [
    "reviews_df1 = df1['Reviews']\n",
    "reviews_df2 = df2['Reviews']\n",
    "reviews_df3 = df3['Reviews']"
   ],
   "metadata": {
    "collapsed": false,
    "pycharm": {
     "name": "#%%\n"
    }
   }
  },
  {
   "cell_type": "code",
   "execution_count": 8,
   "outputs": [],
   "source": [
    "import nltk\n",
    "from nltk.tokenize import word_tokenize\n",
    "from nltk.probability import FreqDist"
   ],
   "metadata": {
    "collapsed": false,
    "pycharm": {
     "name": "#%%\n"
    }
   }
  },
  {
   "cell_type": "code",
   "execution_count": 9,
   "outputs": [],
   "source": [
    "word_arr = []\n",
    "for i in reviews_df1:\n",
    "    word_arr.append(i)\n",
    "for i in reviews_df2:\n",
    "    word_arr.append(i)\n",
    "for i in reviews_df3:\n",
    "    word_arr.append(i)"
   ],
   "metadata": {
    "collapsed": false,
    "pycharm": {
     "name": "#%%\n"
    }
   }
  },
  {
   "cell_type": "code",
   "execution_count": 10,
   "outputs": [],
   "source": [
    "word_arr = ' '.join(word_arr)"
   ],
   "metadata": {
    "collapsed": false,
    "pycharm": {
     "name": "#%%\n"
    }
   }
  },
  {
   "cell_type": "code",
   "execution_count": 11,
   "outputs": [],
   "source": [
    "words = word_tokenize(word_arr)"
   ],
   "metadata": {
    "collapsed": false,
    "pycharm": {
     "name": "#%%\n"
    }
   }
  },
  {
   "cell_type": "code",
   "execution_count": 12,
   "outputs": [],
   "source": [
    "fdist = FreqDist(words)"
   ],
   "metadata": {
    "collapsed": false,
    "pycharm": {
     "name": "#%%\n"
    }
   }
  },
  {
   "cell_type": "code",
   "execution_count": 13,
   "outputs": [],
   "source": [
    "most_common = fdist.most_common()"
   ],
   "metadata": {
    "collapsed": false,
    "pycharm": {
     "name": "#%%\n"
    }
   }
  },
  {
   "cell_type": "code",
   "execution_count": 14,
   "outputs": [
    {
     "data": {
      "text/plain": "[('çok', 130),\n ('.', 114),\n ('güzel', 93),\n ('geldi', 55),\n (',', 40),\n ('bir', 37),\n ('aldım', 36),\n ('Çok', 35),\n ('ve', 34),\n ('ederim', 32),\n ('ürün', 31),\n ('iyi', 28),\n ('gibi', 25),\n ('Ülker', 25),\n ('lezzetli', 21),\n ('teşekkür', 21),\n ('hediye', 20),\n ('kargo', 20),\n ('paket', 20),\n ('olarak', 19),\n ('teşekkürler', 19),\n ('için', 19),\n ('beğendim', 18),\n ('ama', 17),\n ('tarihi', 17),\n ('tavsiye', 16),\n ('harika', 16),\n ('daha', 16),\n ('tek', 15),\n ('tadı', 15),\n ('bu', 14),\n ('çikolata', 14),\n ('son', 14),\n ('uygun', 13),\n ('hızlı', 13),\n ('gayet', 13),\n ('kalitesi', 13),\n ('kullanma', 13),\n ('fiyat', 12),\n ('Ürün', 12),\n ('almıştım', 12),\n ('cok', 12),\n ('elime', 12),\n ('ulaştı', 12),\n ('güzeldi', 11),\n ('tam', 11),\n ('şekilde', 11),\n ('paketleme', 11),\n ('hepsi', 10),\n ('de', 10)]"
     },
     "execution_count": 14,
     "metadata": {},
     "output_type": "execute_result"
    }
   ],
   "source": [
    "# Unigrams\n",
    "unigram_freq = most_common\n",
    "most_common[:50]"
   ],
   "metadata": {
    "collapsed": false,
    "pycharm": {
     "name": "#%%\n"
    }
   }
  },
  {
   "cell_type": "code",
   "execution_count": 15,
   "outputs": [],
   "source": [
    "from nltk.collocations import BigramAssocMeasures, BigramCollocationFinder"
   ],
   "metadata": {
    "collapsed": false,
    "pycharm": {
     "name": "#%%\n"
    }
   }
  },
  {
   "cell_type": "code",
   "execution_count": 16,
   "outputs": [],
   "source": [
    "# Bigrams\n",
    "finder = BigramCollocationFinder.from_words(words)\n",
    "finder.apply_freq_filter(2)"
   ],
   "metadata": {
    "collapsed": false,
    "pycharm": {
     "name": "#%%\n"
    }
   }
  },
  {
   "cell_type": "code",
   "execution_count": 17,
   "outputs": [],
   "source": [
    "bigram_measures = BigramAssocMeasures()\n",
    "bigrams = finder.nbest(bigram_measures.chi_sq, 50)"
   ],
   "metadata": {
    "collapsed": false,
    "pycharm": {
     "name": "#%%\n"
    }
   }
  },
  {
   "cell_type": "code",
   "execution_count": 18,
   "outputs": [],
   "source": [
    "from collections import defaultdict"
   ],
   "metadata": {
    "collapsed": false,
    "pycharm": {
     "name": "#%%\n"
    }
   }
  },
  {
   "cell_type": "code",
   "execution_count": 19,
   "outputs": [],
   "source": [
    "bigram_freqs = defaultdict()\n",
    "for bigram in bigrams:\n",
    "    freq = finder.ngram_fd[bigram]\n",
    "    bigram_freqs[bigram] = freq"
   ],
   "metadata": {
    "collapsed": false,
    "pycharm": {
     "name": "#%%\n"
    }
   }
  },
  {
   "cell_type": "code",
   "execution_count": 20,
   "outputs": [
    {
     "name": "stdout",
     "output_type": "stream",
     "text": [
      "[(('teşekkür', 'ederim'), 16), (('tavsiye', 'ederim'), 15), (('gibi', 'geldi'), 12), (('kullanma', 'tarihi'), 10), (('Ülker', 'kalitesi'), 10), (('son', 'kullanma'), 9), (('bir', 'şekilde'), 7), (('elime', 'ulaştı'), 6), (('hızlı', 'kargo'), 6), (('memnun', 'kaldım'), 5), (('tek', 'tek'), 5), (('göründüğü', 'gibi'), 4), (('Hızlı', 'kargo'), 4), (('uygun', 'fiyata'), 4), (('tarihi', 'yakın'), 4), (('kahve', 'yanında'), 3), (('güvenilir', 'satıcı'), 3), ((':', ')'), 3), (('sağlam', 'paketlenmiş'), 3), (('mutlu', 'oldu'), 3), (('istediğim', 'gibi'), 3), (('biraz', 'daha'), 3), (('daha', 'büyük'), 3), (('Fiyatına', 'göre'), 2), (('hesapliya', 'denk'), 2), (('on', 'numara'), 2), (('TL', 'ye'), 2), (('good', 'good'), 2), (('pul', 'şeklinde'), 2), (('Daha', 'önce'), 2), (('sipariş', 'vericem'), 2), (('uzun', 'süre'), 2), (('Ay', '2023'), 2), (('memnun', 'kaldık'), 2), (('!', '!'), 2), (('5', 'yıldız'), 2), (('hepsi', 'birbirinden'), 2), (('ürünlerin', 'hepsi'), 2), (('tekrar', 'sipariş'), 2), (('uyguna', 'geliyor'), 2), (('tek', 'kelimeyle'), 2), (('tarihine', 'de'), 2), (('kelimeyle', 'harika'), 2), (('Eylül', '2023'), 2), (('Son', 'kullanma'), 2), (('kalitesi', 'tartışılmaz'), 2), (('Kardeşime', 'hediye'), 2), (('Sevgilime', 'hediye'), 2), (('arkadaşıma', 'hediye'), 2), (('yakın', 'değil'), 2)]\n"
     ]
    }
   ],
   "source": [
    "# sort bigrams by frequency\n",
    "bigram_freqs = sorted(bigram_freqs.items(), key=lambda x: x[1], reverse=True )\n",
    "print(bigram_freqs)"
   ],
   "metadata": {
    "collapsed": false,
    "pycharm": {
     "name": "#%%\n"
    }
   }
  },
  {
   "cell_type": "code",
   "execution_count": 21,
   "outputs": [],
   "source": [
    "# trigrams\n",
    "from nltk.collocations import TrigramAssocMeasures, TrigramCollocationFinder\n",
    "finder2 = TrigramCollocationFinder.from_words(words)\n",
    "finder2.apply_freq_filter(2)\n",
    "trigram_measures = TrigramAssocMeasures()\n",
    "trigrams = finder2.nbest(trigram_measures.chi_sq, 50)\n",
    "trigram_freqs = defaultdict()\n",
    "for trigram in trigrams:\n",
    "    freq = finder2.ngram_fd[trigram]\n",
    "    trigram_freqs[trigram] = freq"
   ],
   "metadata": {
    "collapsed": false,
    "pycharm": {
     "name": "#%%\n"
    }
   }
  },
  {
   "cell_type": "code",
   "execution_count": 22,
   "outputs": [],
   "source": [
    "trigram_freqs = sorted(trigram_freqs.items(), key=lambda x: x[1], reverse=True )"
   ],
   "metadata": {
    "collapsed": false,
    "pycharm": {
     "name": "#%%\n"
    }
   }
  },
  {
   "cell_type": "code",
   "execution_count": 23,
   "outputs": [
    {
     "data": {
      "text/plain": "[('çok', 130),\n ('.', 114),\n ('güzel', 93),\n ('geldi', 55),\n (',', 40),\n ('bir', 37),\n ('aldım', 36),\n ('Çok', 35),\n ('ve', 34),\n ('ederim', 32),\n ('ürün', 31),\n ('iyi', 28),\n ('gibi', 25),\n ('Ülker', 25),\n ('lezzetli', 21),\n ('teşekkür', 21),\n ('hediye', 20),\n ('kargo', 20),\n ('paket', 20),\n ('olarak', 19),\n ('teşekkürler', 19),\n ('için', 19),\n ('beğendim', 18),\n ('ama', 17),\n ('tarihi', 17),\n ('tavsiye', 16),\n ('harika', 16),\n ('daha', 16),\n ('tek', 15),\n ('tadı', 15),\n ('bu', 14),\n ('çikolata', 14),\n ('son', 14),\n ('uygun', 13),\n ('hızlı', 13),\n ('gayet', 13),\n ('kalitesi', 13),\n ('kullanma', 13),\n ('fiyat', 12),\n ('Ürün', 12),\n ('almıştım', 12),\n ('cok', 12),\n ('elime', 12),\n ('ulaştı', 12),\n ('güzeldi', 11),\n ('tam', 11),\n ('şekilde', 11),\n ('paketleme', 11),\n ('hepsi', 10),\n ('de', 10)]"
     },
     "execution_count": 23,
     "metadata": {},
     "output_type": "execute_result"
    }
   ],
   "source": [
    "unigram_freq= unigram_freq[:50]\n",
    "unigram_freq"
   ],
   "metadata": {
    "collapsed": false,
    "pycharm": {
     "name": "#%%\n"
    }
   }
  },
  {
   "cell_type": "code",
   "execution_count": 24,
   "outputs": [],
   "source": [
    "bigram_arr = []\n",
    "trigram_arr = []\n",
    "unigram_arr = []\n",
    "\n",
    "for i in np.arange(50):\n",
    "    bigram_arr.append(bigram_freqs[i][0])\n",
    "    trigram_arr.append(trigram_freqs[i][0])\n",
    "    unigram_arr.append(unigram_freq[i][0])"
   ],
   "metadata": {
    "collapsed": false,
    "pycharm": {
     "name": "#%%\n"
    }
   }
  },
  {
   "cell_type": "code",
   "execution_count": 25,
   "outputs": [],
   "source": [
    "unigram_df = pd.DataFrame(unigram_arr)\n",
    "bigram_df = pd.DataFrame(bigram_arr)\n",
    "trigram_df = pd.DataFrame(trigram_arr)\n"
   ],
   "metadata": {
    "collapsed": false,
    "pycharm": {
     "name": "#%%\n"
    }
   }
  },
  {
   "cell_type": "code",
   "execution_count": 26,
   "outputs": [],
   "source": [
    "unigram_xlsx = unigram_df.to_excel('/Users/serragoker/Documents/GitHub/website-sg3390/unigram.xlsx')\n",
    "bigram_xlsx = bigram_df.to_excel('/Users/serragoker/Documents/GitHub/website-sg3390/bigram.xlsx')\n",
    "trigram_xlsx = trigram_df.to_excel('/Users/serragoker/Documents/GitHub/website-sg3390/trigram.xlsx')"
   ],
   "metadata": {
    "collapsed": false,
    "pycharm": {
     "name": "#%%\n"
    }
   }
  },
  {
   "cell_type": "code",
   "execution_count": 38,
   "outputs": [
    {
     "name": "stdout",
     "output_type": "stream",
     "text": [
      "Requirement already satisfied: virtualenv in /Library/Frameworks/Python.framework/Versions/3.9/lib/python3.9/site-packages (20.19.0)\r\n",
      "Requirement already satisfied: filelock<4,>=3.4.1 in /Library/Frameworks/Python.framework/Versions/3.9/lib/python3.9/site-packages (from virtualenv) (3.9.0)\r\n",
      "Requirement already satisfied: distlib<1,>=0.3.6 in /Library/Frameworks/Python.framework/Versions/3.9/lib/python3.9/site-packages (from virtualenv) (0.3.6)\r\n",
      "Requirement already satisfied: platformdirs<4,>=2.4 in /Library/Frameworks/Python.framework/Versions/3.9/lib/python3.9/site-packages (from virtualenv) (3.0.0)\r\n",
      "\r\n",
      "\u001B[1m[\u001B[0m\u001B[34;49mnotice\u001B[0m\u001B[1;39;49m]\u001B[0m\u001B[39;49m A new release of pip is available: \u001B[0m\u001B[31;49m23.0\u001B[0m\u001B[39;49m -> \u001B[0m\u001B[32;49m23.1\u001B[0m\r\n",
      "\u001B[1m[\u001B[0m\u001B[34;49mnotice\u001B[0m\u001B[1;39;49m]\u001B[0m\u001B[39;49m To update, run: \u001B[0m\u001B[32;49mpip install --upgrade pip\u001B[0m\r\n"
     ]
    }
   ],
   "source": [
    "! pip install virtualenv"
   ],
   "metadata": {
    "collapsed": false,
    "pycharm": {
     "name": "#%%\n"
    }
   }
  },
  {
   "cell_type": "code",
   "execution_count": 39,
   "outputs": [
    {
     "name": "stdout",
     "output_type": "stream",
     "text": [
      "created virtual environment CPython3.9.5.final.0-64 in 1663ms\r\n",
      "  creator CPython3Posix(dest=/Users/serragoker/Documents/GitHub/website-sg3390/myenv, clear=False, no_vcs_ignore=False, global=False)\r\n",
      "  seeder FromAppData(download=False, pip=bundle, setuptools=bundle, wheel=bundle, via=copy, app_data_dir=/Users/serragoker/Library/Application Support/virtualenv)\r\n",
      "    added seed packages: pip==23.0.1, setuptools==67.6.0, wheel==0.40.0\r\n",
      "  activators BashActivator,CShellActivator,FishActivator,NushellActivator,PowerShellActivator,PythonActivator\r\n"
     ]
    }
   ],
   "source": [
    "! virtualenv myenv"
   ],
   "metadata": {
    "collapsed": false,
    "pycharm": {
     "name": "#%%\n"
    }
   }
  },
  {
   "cell_type": "markdown",
   "source": [
    "Translation to English for Sentiment Analysis"
   ],
   "metadata": {
    "collapsed": false
   }
  },
  {
   "cell_type": "code",
   "execution_count": 41,
   "outputs": [],
   "source": [
    "! source myenv/bin/activate"
   ],
   "metadata": {
    "collapsed": false,
    "pycharm": {
     "name": "#%%\n"
    }
   }
  },
  {
   "cell_type": "code",
   "execution_count": 43,
   "outputs": [
    {
     "name": "stdout",
     "output_type": "stream",
     "text": [
      "Requirement already satisfied: google-cloud-translate in /Library/Frameworks/Python.framework/Versions/3.9/lib/python3.9/site-packages (3.11.1)\r\n",
      "Requirement already satisfied: google-api-core[grpc]!=2.0.*,!=2.1.*,!=2.10.*,!=2.2.*,!=2.3.*,!=2.4.*,!=2.5.*,!=2.6.*,!=2.7.*,!=2.8.*,!=2.9.*,<3.0.0dev,>=1.34.0 in /Library/Frameworks/Python.framework/Versions/3.9/lib/python3.9/site-packages (from google-cloud-translate) (2.11.0)\r\n",
      "Requirement already satisfied: google-cloud-core<3.0.0dev,>=1.3.0 in /Library/Frameworks/Python.framework/Versions/3.9/lib/python3.9/site-packages (from google-cloud-translate) (2.3.2)\r\n",
      "Requirement already satisfied: protobuf!=3.20.0,!=3.20.1,!=4.21.0,!=4.21.1,!=4.21.2,!=4.21.3,!=4.21.4,!=4.21.5,<5.0.0dev,>=3.19.5 in /Library/Frameworks/Python.framework/Versions/3.9/lib/python3.9/site-packages (from google-cloud-translate) (4.22.1)\r\n",
      "Requirement already satisfied: proto-plus<2.0.0dev,>=1.22.0 in /Library/Frameworks/Python.framework/Versions/3.9/lib/python3.9/site-packages (from google-cloud-translate) (1.22.2)\r\n",
      "Requirement already satisfied: requests<3.0.0dev,>=2.18.0 in /Library/Frameworks/Python.framework/Versions/3.9/lib/python3.9/site-packages (from google-api-core[grpc]!=2.0.*,!=2.1.*,!=2.10.*,!=2.2.*,!=2.3.*,!=2.4.*,!=2.5.*,!=2.6.*,!=2.7.*,!=2.8.*,!=2.9.*,<3.0.0dev,>=1.34.0->google-cloud-translate) (2.28.1)\r\n",
      "Requirement already satisfied: googleapis-common-protos<2.0dev,>=1.56.2 in /Library/Frameworks/Python.framework/Versions/3.9/lib/python3.9/site-packages (from google-api-core[grpc]!=2.0.*,!=2.1.*,!=2.10.*,!=2.2.*,!=2.3.*,!=2.4.*,!=2.5.*,!=2.6.*,!=2.7.*,!=2.8.*,!=2.9.*,<3.0.0dev,>=1.34.0->google-cloud-translate) (1.59.0)\r\n",
      "Requirement already satisfied: google-auth<3.0dev,>=2.14.1 in /Library/Frameworks/Python.framework/Versions/3.9/lib/python3.9/site-packages (from google-api-core[grpc]!=2.0.*,!=2.1.*,!=2.10.*,!=2.2.*,!=2.3.*,!=2.4.*,!=2.5.*,!=2.6.*,!=2.7.*,!=2.8.*,!=2.9.*,<3.0.0dev,>=1.34.0->google-cloud-translate) (2.16.3)\r\n",
      "Requirement already satisfied: grpcio<2.0dev,>=1.33.2 in /Library/Frameworks/Python.framework/Versions/3.9/lib/python3.9/site-packages (from google-api-core[grpc]!=2.0.*,!=2.1.*,!=2.10.*,!=2.2.*,!=2.3.*,!=2.4.*,!=2.5.*,!=2.6.*,!=2.7.*,!=2.8.*,!=2.9.*,<3.0.0dev,>=1.34.0->google-cloud-translate) (1.54.0)\r\n",
      "Requirement already satisfied: grpcio-status<2.0dev,>=1.33.2 in /Library/Frameworks/Python.framework/Versions/3.9/lib/python3.9/site-packages (from google-api-core[grpc]!=2.0.*,!=2.1.*,!=2.10.*,!=2.2.*,!=2.3.*,!=2.4.*,!=2.5.*,!=2.6.*,!=2.7.*,!=2.8.*,!=2.9.*,<3.0.0dev,>=1.34.0->google-cloud-translate) (1.54.0)\r\n",
      "Requirement already satisfied: six>=1.9.0 in /Library/Frameworks/Python.framework/Versions/3.9/lib/python3.9/site-packages (from google-auth<3.0dev,>=2.14.1->google-api-core[grpc]!=2.0.*,!=2.1.*,!=2.10.*,!=2.2.*,!=2.3.*,!=2.4.*,!=2.5.*,!=2.6.*,!=2.7.*,!=2.8.*,!=2.9.*,<3.0.0dev,>=1.34.0->google-cloud-translate) (1.16.0)\r\n",
      "Requirement already satisfied: cachetools<6.0,>=2.0.0 in /Library/Frameworks/Python.framework/Versions/3.9/lib/python3.9/site-packages (from google-auth<3.0dev,>=2.14.1->google-api-core[grpc]!=2.0.*,!=2.1.*,!=2.10.*,!=2.2.*,!=2.3.*,!=2.4.*,!=2.5.*,!=2.6.*,!=2.7.*,!=2.8.*,!=2.9.*,<3.0.0dev,>=1.34.0->google-cloud-translate) (5.3.0)\r\n",
      "Requirement already satisfied: rsa<5,>=3.1.4 in /Library/Frameworks/Python.framework/Versions/3.9/lib/python3.9/site-packages (from google-auth<3.0dev,>=2.14.1->google-api-core[grpc]!=2.0.*,!=2.1.*,!=2.10.*,!=2.2.*,!=2.3.*,!=2.4.*,!=2.5.*,!=2.6.*,!=2.7.*,!=2.8.*,!=2.9.*,<3.0.0dev,>=1.34.0->google-cloud-translate) (4.9)\r\n",
      "Requirement already satisfied: pyasn1-modules>=0.2.1 in /Library/Frameworks/Python.framework/Versions/3.9/lib/python3.9/site-packages (from google-auth<3.0dev,>=2.14.1->google-api-core[grpc]!=2.0.*,!=2.1.*,!=2.10.*,!=2.2.*,!=2.3.*,!=2.4.*,!=2.5.*,!=2.6.*,!=2.7.*,!=2.8.*,!=2.9.*,<3.0.0dev,>=1.34.0->google-cloud-translate) (0.2.8)\r\n",
      "Requirement already satisfied: idna<4,>=2.5 in /Library/Frameworks/Python.framework/Versions/3.9/lib/python3.9/site-packages (from requests<3.0.0dev,>=2.18.0->google-api-core[grpc]!=2.0.*,!=2.1.*,!=2.10.*,!=2.2.*,!=2.3.*,!=2.4.*,!=2.5.*,!=2.6.*,!=2.7.*,!=2.8.*,!=2.9.*,<3.0.0dev,>=1.34.0->google-cloud-translate) (3.4)\r\n",
      "Requirement already satisfied: certifi>=2017.4.17 in /Library/Frameworks/Python.framework/Versions/3.9/lib/python3.9/site-packages (from requests<3.0.0dev,>=2.18.0->google-api-core[grpc]!=2.0.*,!=2.1.*,!=2.10.*,!=2.2.*,!=2.3.*,!=2.4.*,!=2.5.*,!=2.6.*,!=2.7.*,!=2.8.*,!=2.9.*,<3.0.0dev,>=1.34.0->google-cloud-translate) (2022.12.7)\r\n",
      "Requirement already satisfied: charset-normalizer<3,>=2 in /Library/Frameworks/Python.framework/Versions/3.9/lib/python3.9/site-packages (from requests<3.0.0dev,>=2.18.0->google-api-core[grpc]!=2.0.*,!=2.1.*,!=2.10.*,!=2.2.*,!=2.3.*,!=2.4.*,!=2.5.*,!=2.6.*,!=2.7.*,!=2.8.*,!=2.9.*,<3.0.0dev,>=1.34.0->google-cloud-translate) (2.1.1)\r\n",
      "Requirement already satisfied: urllib3<1.27,>=1.21.1 in /Library/Frameworks/Python.framework/Versions/3.9/lib/python3.9/site-packages (from requests<3.0.0dev,>=2.18.0->google-api-core[grpc]!=2.0.*,!=2.1.*,!=2.10.*,!=2.2.*,!=2.3.*,!=2.4.*,!=2.5.*,!=2.6.*,!=2.7.*,!=2.8.*,!=2.9.*,<3.0.0dev,>=1.34.0->google-cloud-translate) (1.26.12)\r\n",
      "Requirement already satisfied: pyasn1<0.5.0,>=0.4.6 in /Library/Frameworks/Python.framework/Versions/3.9/lib/python3.9/site-packages (from pyasn1-modules>=0.2.1->google-auth<3.0dev,>=2.14.1->google-api-core[grpc]!=2.0.*,!=2.1.*,!=2.10.*,!=2.2.*,!=2.3.*,!=2.4.*,!=2.5.*,!=2.6.*,!=2.7.*,!=2.8.*,!=2.9.*,<3.0.0dev,>=1.34.0->google-cloud-translate) (0.4.8)\r\n",
      "\r\n",
      "\u001B[1m[\u001B[0m\u001B[34;49mnotice\u001B[0m\u001B[1;39;49m]\u001B[0m\u001B[39;49m A new release of pip is available: \u001B[0m\u001B[31;49m23.0\u001B[0m\u001B[39;49m -> \u001B[0m\u001B[32;49m23.1\u001B[0m\r\n",
      "\u001B[1m[\u001B[0m\u001B[34;49mnotice\u001B[0m\u001B[1;39;49m]\u001B[0m\u001B[39;49m To update, run: \u001B[0m\u001B[32;49mpip install --upgrade pip\u001B[0m\r\n"
     ]
    }
   ],
   "source": [
    "!pip install google-cloud-translate"
   ],
   "metadata": {
    "collapsed": false,
    "pycharm": {
     "name": "#%%\n"
    }
   }
  },
  {
   "cell_type": "code",
   "execution_count": 45,
   "outputs": [],
   "source": [
    "import os\n",
    "import google.cloud"
   ],
   "metadata": {
    "collapsed": false,
    "pycharm": {
     "name": "#%%\n"
    }
   }
  },
  {
   "cell_type": "code",
   "execution_count": 50,
   "outputs": [
    {
     "ename": "ContextualVersionConflict",
     "evalue": "(protobuf 4.22.1 (/Library/Frameworks/Python.framework/Versions/3.9/lib/python3.9/site-packages), Requirement.parse('protobuf!=3.20.0,!=3.20.1,!=4.21.0,!=4.21.1,!=4.21.2,!=4.21.3,!=4.21.4,!=4.21.5,<4.0.0dev,>=3.19.5'), {'google-api-core'})",
     "output_type": "error",
     "traceback": [
      "\u001B[0;31m---------------------------------------------------------------------------\u001B[0m",
      "\u001B[0;31mContextualVersionConflict\u001B[0m                 Traceback (most recent call last)",
      "Cell \u001B[0;32mIn [50], line 1\u001B[0m\n\u001B[0;32m----> 1\u001B[0m \u001B[38;5;28;01mfrom\u001B[39;00m \u001B[38;5;21;01mgoogle\u001B[39;00m\u001B[38;5;21;01m.\u001B[39;00m\u001B[38;5;21;01mcloud\u001B[39;00m \u001B[38;5;28;01mimport\u001B[39;00m translate_v2\n",
      "File \u001B[0;32m/Library/Frameworks/Python.framework/Versions/3.9/lib/python3.9/site-packages/google/cloud/translate_v2/__init__.py:20\u001B[0m\n\u001B[1;32m     15\u001B[0m \u001B[38;5;124;03m\"\"\"Google Cloud Translation API wrapper.\"\"\"\u001B[39;00m\n\u001B[1;32m     18\u001B[0m \u001B[38;5;28;01mfrom\u001B[39;00m \u001B[38;5;21;01mpkg_resources\u001B[39;00m \u001B[38;5;28;01mimport\u001B[39;00m get_distribution\n\u001B[0;32m---> 20\u001B[0m __version__ \u001B[38;5;241m=\u001B[39m \u001B[43mget_distribution\u001B[49m\u001B[43m(\u001B[49m\u001B[38;5;124;43m\"\u001B[39;49m\u001B[38;5;124;43mgoogle-cloud-translate\u001B[39;49m\u001B[38;5;124;43m\"\u001B[39;49m\u001B[43m)\u001B[49m\u001B[38;5;241m.\u001B[39mversion\n\u001B[1;32m     22\u001B[0m \u001B[38;5;28;01mfrom\u001B[39;00m \u001B[38;5;21;01mgoogle\u001B[39;00m\u001B[38;5;21;01m.\u001B[39;00m\u001B[38;5;21;01mcloud\u001B[39;00m\u001B[38;5;21;01m.\u001B[39;00m\u001B[38;5;21;01mtranslate_v2\u001B[39;00m\u001B[38;5;21;01m.\u001B[39;00m\u001B[38;5;21;01mclient\u001B[39;00m \u001B[38;5;28;01mimport\u001B[39;00m Client\n\u001B[1;32m     25\u001B[0m __all__ \u001B[38;5;241m=\u001B[39m (\u001B[38;5;124m\"\u001B[39m\u001B[38;5;124m__version__\u001B[39m\u001B[38;5;124m\"\u001B[39m, \u001B[38;5;124m\"\u001B[39m\u001B[38;5;124mClient\u001B[39m\u001B[38;5;124m\"\u001B[39m)\n",
      "File \u001B[0;32m/Library/Frameworks/Python.framework/Versions/3.9/lib/python3.9/site-packages/pkg_resources/__init__.py:466\u001B[0m, in \u001B[0;36mget_distribution\u001B[0;34m(dist)\u001B[0m\n\u001B[1;32m    464\u001B[0m     dist \u001B[38;5;241m=\u001B[39m Requirement\u001B[38;5;241m.\u001B[39mparse(dist)\n\u001B[1;32m    465\u001B[0m \u001B[38;5;28;01mif\u001B[39;00m \u001B[38;5;28misinstance\u001B[39m(dist, Requirement):\n\u001B[0;32m--> 466\u001B[0m     dist \u001B[38;5;241m=\u001B[39m \u001B[43mget_provider\u001B[49m\u001B[43m(\u001B[49m\u001B[43mdist\u001B[49m\u001B[43m)\u001B[49m\n\u001B[1;32m    467\u001B[0m \u001B[38;5;28;01mif\u001B[39;00m \u001B[38;5;129;01mnot\u001B[39;00m \u001B[38;5;28misinstance\u001B[39m(dist, Distribution):\n\u001B[1;32m    468\u001B[0m     \u001B[38;5;28;01mraise\u001B[39;00m \u001B[38;5;167;01mTypeError\u001B[39;00m(\u001B[38;5;124m\"\u001B[39m\u001B[38;5;124mExpected string, Requirement, or Distribution\u001B[39m\u001B[38;5;124m\"\u001B[39m, dist)\n",
      "File \u001B[0;32m/Library/Frameworks/Python.framework/Versions/3.9/lib/python3.9/site-packages/pkg_resources/__init__.py:342\u001B[0m, in \u001B[0;36mget_provider\u001B[0;34m(moduleOrReq)\u001B[0m\n\u001B[1;32m    340\u001B[0m \u001B[38;5;124;03m\"\"\"Return an IResourceProvider for the named module or requirement\"\"\"\u001B[39;00m\n\u001B[1;32m    341\u001B[0m \u001B[38;5;28;01mif\u001B[39;00m \u001B[38;5;28misinstance\u001B[39m(moduleOrReq, Requirement):\n\u001B[0;32m--> 342\u001B[0m     \u001B[38;5;28;01mreturn\u001B[39;00m working_set\u001B[38;5;241m.\u001B[39mfind(moduleOrReq) \u001B[38;5;129;01mor\u001B[39;00m \u001B[43mrequire\u001B[49m\u001B[43m(\u001B[49m\u001B[38;5;28;43mstr\u001B[39;49m\u001B[43m(\u001B[49m\u001B[43mmoduleOrReq\u001B[49m\u001B[43m)\u001B[49m\u001B[43m)\u001B[49m[\u001B[38;5;241m0\u001B[39m]\n\u001B[1;32m    343\u001B[0m \u001B[38;5;28;01mtry\u001B[39;00m:\n\u001B[1;32m    344\u001B[0m     module \u001B[38;5;241m=\u001B[39m sys\u001B[38;5;241m.\u001B[39mmodules[moduleOrReq]\n",
      "File \u001B[0;32m/Library/Frameworks/Python.framework/Versions/3.9/lib/python3.9/site-packages/pkg_resources/__init__.py:886\u001B[0m, in \u001B[0;36mWorkingSet.require\u001B[0;34m(self, *requirements)\u001B[0m\n\u001B[1;32m    877\u001B[0m \u001B[38;5;28;01mdef\u001B[39;00m \u001B[38;5;21mrequire\u001B[39m(\u001B[38;5;28mself\u001B[39m, \u001B[38;5;241m*\u001B[39mrequirements):\n\u001B[1;32m    878\u001B[0m     \u001B[38;5;124;03m\"\"\"Ensure that distributions matching `requirements` are activated\u001B[39;00m\n\u001B[1;32m    879\u001B[0m \n\u001B[1;32m    880\u001B[0m \u001B[38;5;124;03m    `requirements` must be a string or a (possibly-nested) sequence\u001B[39;00m\n\u001B[0;32m   (...)\u001B[0m\n\u001B[1;32m    884\u001B[0m \u001B[38;5;124;03m    included, even if they were already activated in this working set.\u001B[39;00m\n\u001B[1;32m    885\u001B[0m \u001B[38;5;124;03m    \"\"\"\u001B[39;00m\n\u001B[0;32m--> 886\u001B[0m     needed \u001B[38;5;241m=\u001B[39m \u001B[38;5;28;43mself\u001B[39;49m\u001B[38;5;241;43m.\u001B[39;49m\u001B[43mresolve\u001B[49m\u001B[43m(\u001B[49m\u001B[43mparse_requirements\u001B[49m\u001B[43m(\u001B[49m\u001B[43mrequirements\u001B[49m\u001B[43m)\u001B[49m\u001B[43m)\u001B[49m\n\u001B[1;32m    888\u001B[0m     \u001B[38;5;28;01mfor\u001B[39;00m dist \u001B[38;5;129;01min\u001B[39;00m needed:\n\u001B[1;32m    889\u001B[0m         \u001B[38;5;28mself\u001B[39m\u001B[38;5;241m.\u001B[39madd(dist)\n",
      "File \u001B[0;32m/Library/Frameworks/Python.framework/Versions/3.9/lib/python3.9/site-packages/pkg_resources/__init__.py:777\u001B[0m, in \u001B[0;36mWorkingSet.resolve\u001B[0;34m(self, requirements, env, installer, replace_conflicting, extras)\u001B[0m\n\u001B[1;32m    774\u001B[0m \u001B[38;5;28;01mif\u001B[39;00m dist \u001B[38;5;129;01mnot\u001B[39;00m \u001B[38;5;129;01min\u001B[39;00m req:\n\u001B[1;32m    775\u001B[0m     \u001B[38;5;66;03m# Oops, the \"best\" so far conflicts with a dependency\u001B[39;00m\n\u001B[1;32m    776\u001B[0m     dependent_req \u001B[38;5;241m=\u001B[39m required_by[req]\n\u001B[0;32m--> 777\u001B[0m     \u001B[38;5;28;01mraise\u001B[39;00m VersionConflict(dist, req)\u001B[38;5;241m.\u001B[39mwith_context(dependent_req)\n\u001B[1;32m    779\u001B[0m \u001B[38;5;66;03m# push the new requirements onto the stack\u001B[39;00m\n\u001B[1;32m    780\u001B[0m new_requirements \u001B[38;5;241m=\u001B[39m dist\u001B[38;5;241m.\u001B[39mrequires(req\u001B[38;5;241m.\u001B[39mextras)[::\u001B[38;5;241m-\u001B[39m\u001B[38;5;241m1\u001B[39m]\n",
      "\u001B[0;31mContextualVersionConflict\u001B[0m: (protobuf 4.22.1 (/Library/Frameworks/Python.framework/Versions/3.9/lib/python3.9/site-packages), Requirement.parse('protobuf!=3.20.0,!=3.20.1,!=4.21.0,!=4.21.1,!=4.21.2,!=4.21.3,!=4.21.4,!=4.21.5,<4.0.0dev,>=3.19.5'), {'google-api-core'})"
     ]
    }
   ],
   "source": [
    "from google.cloud import translate_v2"
   ],
   "metadata": {
    "collapsed": false,
    "pycharm": {
     "name": "#%%\n"
    }
   }
  },
  {
   "cell_type": "code",
   "execution_count": null,
   "outputs": [],
   "source": [],
   "metadata": {
    "collapsed": false,
    "pycharm": {
     "name": "#%%\n"
    }
   }
  }
 ],
 "metadata": {
  "kernelspec": {
   "display_name": "Python 3",
   "language": "python",
   "name": "python3"
  },
  "language_info": {
   "codemirror_mode": {
    "name": "ipython",
    "version": 2
   },
   "file_extension": ".py",
   "mimetype": "text/x-python",
   "name": "python",
   "nbconvert_exporter": "python",
   "pygments_lexer": "ipython2",
   "version": "2.7.6"
  }
 },
 "nbformat": 4,
 "nbformat_minor": 0
}