{
 "cells": [
  {
   "cell_type": "code",
   "execution_count": 2,
   "metadata": {
    "collapsed": true
   },
   "outputs": [],
   "source": [
    "import numpy as np\n",
    "import pandas as pd\n",
    "\n",
    "df = pd.DataFrame()\n",
    "data1 = pd.read_excel('/Users/serragoker/PycharmProjects/ty2023/ulker_cikolata_allstar.xlsx')\n",
    "data2 = pd.read_excel('/Users/serragoker/PycharmProjects/ty2023/ulker_efsane_atistirmalik.xlsx')\n",
    "data3 = pd.read_excel('/Users/serragoker/PycharmProjects/ty2023/ulker_sutlu_pul_cikolata.xlsx')\n",
    "\n",
    "df1 = pd.DataFrame(data1)\n",
    "df2 = pd.DataFrame(data2)\n",
    "df3 = pd.DataFrame(data3)"
   ]
  },
  {
   "cell_type": "code",
   "execution_count": 3,
   "outputs": [
    {
     "data": {
      "text/plain": "          Dates                                            Reviews  \\\n0     02/4/2023   tarihi çok yakın ama eritirken sıkıntı yasamadim   \n1     02/4/2023  Tadı harika bayıldık kahve yanında yiyoruz resmen   \n2     02/2/2023  çok güzel memnun kaldım alalı bayağı oldu oğlu...   \n3     02/2/2023           Çok beğendim taze lezzetli ve çok parlak   \n4     02/1/2023                                  Pahalı pahalııııı   \n..          ...                                                ...   \n115   12/9/2022                                  Ülker kalitesi...   \n116   12/8/2022  çok beğendim. Bu markayı seviyorum zaten. past...   \n117   12/6/2022  Fiyatı sürekli artış göstersede indirim zamanı...   \n118   12/5/2022  Ürün mart SKT li üzeri biraz beyazlamış olarak...   \n119  11/29/2022  Erimeden patlamadan geldi bu şekilde daha hesaplı   \n\n                Shop  \n0    Kitchen Express  \n1    Kitchen Express  \n2    Kitchen Express  \n3    Kitchen Express  \n4    Kitchen Express  \n..               ...  \n115  Kitchen Express  \n116  Kitchen Express  \n117       Ülker Shop  \n118  Kitchen Express  \n119  Kitchen Express  \n\n[120 rows x 3 columns]",
      "text/html": "<div>\n<style scoped>\n    .dataframe tbody tr th:only-of-type {\n        vertical-align: middle;\n    }\n\n    .dataframe tbody tr th {\n        vertical-align: top;\n    }\n\n    .dataframe thead th {\n        text-align: right;\n    }\n</style>\n<table border=\"1\" class=\"dataframe\">\n  <thead>\n    <tr style=\"text-align: right;\">\n      <th></th>\n      <th>Dates</th>\n      <th>Reviews</th>\n      <th>Shop</th>\n    </tr>\n  </thead>\n  <tbody>\n    <tr>\n      <th>0</th>\n      <td>02/4/2023</td>\n      <td>tarihi çok yakın ama eritirken sıkıntı yasamadim</td>\n      <td>Kitchen Express</td>\n    </tr>\n    <tr>\n      <th>1</th>\n      <td>02/4/2023</td>\n      <td>Tadı harika bayıldık kahve yanında yiyoruz resmen</td>\n      <td>Kitchen Express</td>\n    </tr>\n    <tr>\n      <th>2</th>\n      <td>02/2/2023</td>\n      <td>çok güzel memnun kaldım alalı bayağı oldu oğlu...</td>\n      <td>Kitchen Express</td>\n    </tr>\n    <tr>\n      <th>3</th>\n      <td>02/2/2023</td>\n      <td>Çok beğendim taze lezzetli ve çok parlak</td>\n      <td>Kitchen Express</td>\n    </tr>\n    <tr>\n      <th>4</th>\n      <td>02/1/2023</td>\n      <td>Pahalı pahalııııı</td>\n      <td>Kitchen Express</td>\n    </tr>\n    <tr>\n      <th>...</th>\n      <td>...</td>\n      <td>...</td>\n      <td>...</td>\n    </tr>\n    <tr>\n      <th>115</th>\n      <td>12/9/2022</td>\n      <td>Ülker kalitesi...</td>\n      <td>Kitchen Express</td>\n    </tr>\n    <tr>\n      <th>116</th>\n      <td>12/8/2022</td>\n      <td>çok beğendim. Bu markayı seviyorum zaten. past...</td>\n      <td>Kitchen Express</td>\n    </tr>\n    <tr>\n      <th>117</th>\n      <td>12/6/2022</td>\n      <td>Fiyatı sürekli artış göstersede indirim zamanı...</td>\n      <td>Ülker Shop</td>\n    </tr>\n    <tr>\n      <th>118</th>\n      <td>12/5/2022</td>\n      <td>Ürün mart SKT li üzeri biraz beyazlamış olarak...</td>\n      <td>Kitchen Express</td>\n    </tr>\n    <tr>\n      <th>119</th>\n      <td>11/29/2022</td>\n      <td>Erimeden patlamadan geldi bu şekilde daha hesaplı</td>\n      <td>Kitchen Express</td>\n    </tr>\n  </tbody>\n</table>\n<p>120 rows × 3 columns</p>\n</div>"
     },
     "execution_count": 3,
     "metadata": {},
     "output_type": "execute_result"
    }
   ],
   "source": [
    "df1.drop(columns=['Unnamed: 0'])\n",
    "df2.drop(columns=['Unnamed: 0'])\n",
    "df3.drop(columns=['Unnamed: 0'])"
   ],
   "metadata": {
    "collapsed": false,
    "pycharm": {
     "name": "#%%\n"
    }
   }
  },
  {
   "cell_type": "code",
   "execution_count": 4,
   "outputs": [],
   "source": [
    "reviews_df1 = df1['Reviews']\n",
    "reviews_df2 = df2['Reviews']\n",
    "reviews_df3 = df3['Reviews']"
   ],
   "metadata": {
    "collapsed": false,
    "pycharm": {
     "name": "#%%\n"
    }
   }
  },
  {
   "cell_type": "code",
   "execution_count": 5,
   "outputs": [],
   "source": [
    "import nltk\n",
    "from nltk.tokenize import word_tokenize\n",
    "from nltk.probability import FreqDist"
   ],
   "metadata": {
    "collapsed": false,
    "pycharm": {
     "name": "#%%\n"
    }
   }
  },
  {
   "cell_type": "code",
   "execution_count": 6,
   "outputs": [],
   "source": [
    "word_arr = []\n",
    "for i in reviews_df1:\n",
    "    word_arr.append(i)\n",
    "for i in reviews_df2:\n",
    "    word_arr.append(i)\n",
    "for i in reviews_df3:\n",
    "    word_arr.append(i)"
   ],
   "metadata": {
    "collapsed": false,
    "pycharm": {
     "name": "#%%\n"
    }
   }
  },
  {
   "cell_type": "code",
   "execution_count": 7,
   "outputs": [],
   "source": [
    "word_arr = ' '.join(word_arr)"
   ],
   "metadata": {
    "collapsed": false,
    "pycharm": {
     "name": "#%%\n"
    }
   }
  },
  {
   "cell_type": "code",
   "execution_count": 8,
   "outputs": [],
   "source": [
    "words = word_tokenize(word_arr)"
   ],
   "metadata": {
    "collapsed": false,
    "pycharm": {
     "name": "#%%\n"
    }
   }
  },
  {
   "cell_type": "code",
   "execution_count": 9,
   "outputs": [],
   "source": [
    "fdist = FreqDist(words)"
   ],
   "metadata": {
    "collapsed": false,
    "pycharm": {
     "name": "#%%\n"
    }
   }
  },
  {
   "cell_type": "code",
   "execution_count": 10,
   "outputs": [],
   "source": [
    "most_common = fdist.most_common()"
   ],
   "metadata": {
    "collapsed": false,
    "pycharm": {
     "name": "#%%\n"
    }
   }
  },
  {
   "cell_type": "code",
   "execution_count": 11,
   "outputs": [
    {
     "data": {
      "text/plain": "[('çok', 130),\n ('.', 114),\n ('güzel', 93),\n ('geldi', 55),\n (',', 40),\n ('bir', 37),\n ('aldım', 36),\n ('Çok', 35),\n ('ve', 34),\n ('ederim', 32),\n ('ürün', 31),\n ('iyi', 28),\n ('gibi', 25),\n ('Ülker', 25),\n ('lezzetli', 21),\n ('teşekkür', 21),\n ('hediye', 20),\n ('kargo', 20),\n ('paket', 20),\n ('olarak', 19),\n ('teşekkürler', 19),\n ('için', 19),\n ('beğendim', 18),\n ('ama', 17),\n ('tarihi', 17),\n ('tavsiye', 16),\n ('harika', 16),\n ('daha', 16),\n ('tek', 15),\n ('tadı', 15),\n ('bu', 14),\n ('çikolata', 14),\n ('son', 14),\n ('uygun', 13),\n ('hızlı', 13),\n ('gayet', 13),\n ('kalitesi', 13),\n ('kullanma', 13),\n ('fiyat', 12),\n ('Ürün', 12),\n ('almıştım', 12),\n ('cok', 12),\n ('elime', 12),\n ('ulaştı', 12),\n ('güzeldi', 11),\n ('tam', 11),\n ('şekilde', 11),\n ('paketleme', 11),\n ('hepsi', 10),\n ('de', 10)]"
     },
     "execution_count": 11,
     "metadata": {},
     "output_type": "execute_result"
    }
   ],
   "source": [
    "# Unigrams\n",
    "unigram_freq = most_common\n",
    "most_common[:50]"
   ],
   "metadata": {
    "collapsed": false,
    "pycharm": {
     "name": "#%%\n"
    }
   }
  },
  {
   "cell_type": "code",
   "execution_count": 12,
   "outputs": [],
   "source": [
    "from nltk.collocations import BigramAssocMeasures, BigramCollocationFinder"
   ],
   "metadata": {
    "collapsed": false,
    "pycharm": {
     "name": "#%%\n"
    }
   }
  },
  {
   "cell_type": "code",
   "execution_count": 13,
   "outputs": [],
   "source": [
    "# Bigrams\n",
    "finder = BigramCollocationFinder.from_words(words)\n",
    "finder.apply_freq_filter(2)"
   ],
   "metadata": {
    "collapsed": false,
    "pycharm": {
     "name": "#%%\n"
    }
   }
  },
  {
   "cell_type": "code",
   "execution_count": 14,
   "outputs": [],
   "source": [
    "bigram_measures = BigramAssocMeasures()\n",
    "bigrams = finder.nbest(bigram_measures.chi_sq, 50)"
   ],
   "metadata": {
    "collapsed": false,
    "pycharm": {
     "name": "#%%\n"
    }
   }
  },
  {
   "cell_type": "code",
   "execution_count": 15,
   "outputs": [],
   "source": [
    "from collections import defaultdict"
   ],
   "metadata": {
    "collapsed": false,
    "pycharm": {
     "name": "#%%\n"
    }
   }
  },
  {
   "cell_type": "code",
   "execution_count": 16,
   "outputs": [],
   "source": [
    "bigram_freqs = defaultdict()\n",
    "for bigram in bigrams:\n",
    "    freq = finder.ngram_fd[bigram]\n",
    "    bigram_freqs[bigram] = freq"
   ],
   "metadata": {
    "collapsed": false,
    "pycharm": {
     "name": "#%%\n"
    }
   }
  },
  {
   "cell_type": "code",
   "execution_count": 17,
   "outputs": [
    {
     "name": "stdout",
     "output_type": "stream",
     "text": [
      "[(('teşekkür', 'ederim'), 16), (('tavsiye', 'ederim'), 15), (('gibi', 'geldi'), 12), (('kullanma', 'tarihi'), 10), (('Ülker', 'kalitesi'), 10), (('son', 'kullanma'), 9), (('bir', 'şekilde'), 7), (('elime', 'ulaştı'), 6), (('hızlı', 'kargo'), 6), (('memnun', 'kaldım'), 5), (('tek', 'tek'), 5), (('göründüğü', 'gibi'), 4), (('Hızlı', 'kargo'), 4), (('uygun', 'fiyata'), 4), (('tarihi', 'yakın'), 4), (('kahve', 'yanında'), 3), (('güvenilir', 'satıcı'), 3), ((':', ')'), 3), (('sağlam', 'paketlenmiş'), 3), (('mutlu', 'oldu'), 3), (('istediğim', 'gibi'), 3), (('biraz', 'daha'), 3), (('daha', 'büyük'), 3), (('Fiyatına', 'göre'), 2), (('hesapliya', 'denk'), 2), (('on', 'numara'), 2), (('TL', 'ye'), 2), (('good', 'good'), 2), (('pul', 'şeklinde'), 2), (('Daha', 'önce'), 2), (('sipariş', 'vericem'), 2), (('uzun', 'süre'), 2), (('Ay', '2023'), 2), (('memnun', 'kaldık'), 2), (('!', '!'), 2), (('5', 'yıldız'), 2), (('hepsi', 'birbirinden'), 2), (('ürünlerin', 'hepsi'), 2), (('tekrar', 'sipariş'), 2), (('uyguna', 'geliyor'), 2), (('tek', 'kelimeyle'), 2), (('tarihine', 'de'), 2), (('kelimeyle', 'harika'), 2), (('Eylül', '2023'), 2), (('Son', 'kullanma'), 2), (('kalitesi', 'tartışılmaz'), 2), (('Kardeşime', 'hediye'), 2), (('Sevgilime', 'hediye'), 2), (('arkadaşıma', 'hediye'), 2), (('yakın', 'değil'), 2)]\n"
     ]
    }
   ],
   "source": [
    "# sort bigrams by frequency\n",
    "bigram_freqs = sorted(bigram_freqs.items(), key=lambda x: x[1], reverse=True )\n",
    "print(bigram_freqs)"
   ],
   "metadata": {
    "collapsed": false,
    "pycharm": {
     "name": "#%%\n"
    }
   }
  },
  {
   "cell_type": "code",
   "execution_count": 18,
   "outputs": [],
   "source": [
    "# trigrams\n",
    "from nltk.collocations import TrigramAssocMeasures, TrigramCollocationFinder\n",
    "finder2 = TrigramCollocationFinder.from_words(words)\n",
    "finder2.apply_freq_filter(2)\n",
    "trigram_measures = TrigramAssocMeasures()\n",
    "trigrams = finder2.nbest(trigram_measures.chi_sq, 50)\n",
    "trigram_freqs = defaultdict()\n",
    "for trigram in trigrams:\n",
    "    freq = finder2.ngram_fd[trigram]\n",
    "    trigram_freqs[trigram] = freq"
   ],
   "metadata": {
    "collapsed": false,
    "pycharm": {
     "name": "#%%\n"
    }
   }
  },
  {
   "cell_type": "code",
   "execution_count": 19,
   "outputs": [],
   "source": [
    "trigram_freqs = sorted(trigram_freqs.items(), key=lambda x: x[1], reverse=True )"
   ],
   "metadata": {
    "collapsed": false,
    "pycharm": {
     "name": "#%%\n"
    }
   }
  },
  {
   "cell_type": "code",
   "execution_count": 36,
   "outputs": [
    {
     "data": {
      "text/plain": "[('çok', 130),\n ('.', 114),\n ('güzel', 93),\n ('geldi', 55),\n (',', 40),\n ('bir', 37),\n ('aldım', 36),\n ('Çok', 35),\n ('ve', 34),\n ('ederim', 32),\n ('ürün', 31),\n ('iyi', 28),\n ('gibi', 25),\n ('Ülker', 25),\n ('lezzetli', 21),\n ('teşekkür', 21),\n ('hediye', 20),\n ('kargo', 20),\n ('paket', 20),\n ('olarak', 19),\n ('teşekkürler', 19),\n ('için', 19),\n ('beğendim', 18),\n ('ama', 17),\n ('tarihi', 17),\n ('tavsiye', 16),\n ('harika', 16),\n ('daha', 16),\n ('tek', 15),\n ('tadı', 15),\n ('bu', 14),\n ('çikolata', 14),\n ('son', 14),\n ('uygun', 13),\n ('hızlı', 13),\n ('gayet', 13),\n ('kalitesi', 13),\n ('kullanma', 13),\n ('fiyat', 12),\n ('Ürün', 12),\n ('almıştım', 12),\n ('cok', 12),\n ('elime', 12),\n ('ulaştı', 12),\n ('güzeldi', 11),\n ('tam', 11),\n ('şekilde', 11),\n ('paketleme', 11),\n ('hepsi', 10),\n ('de', 10)]"
     },
     "execution_count": 36,
     "metadata": {},
     "output_type": "execute_result"
    }
   ],
   "source": [
    "unigram_freq= unigram_freq[:50]\n",
    "unigram_freq"
   ],
   "metadata": {
    "collapsed": false,
    "pycharm": {
     "name": "#%%\n"
    }
   }
  },
  {
   "cell_type": "code",
   "execution_count": 42,
   "outputs": [],
   "source": [
    "bigram_arr = []\n",
    "trigram_arr = []\n",
    "unigram_arr = []\n",
    "\n",
    "for i in np.arange(50):\n",
    "    bigram_arr.append(bigram_freqs[i][0])\n",
    "    trigram_arr.append(trigram_freqs[i][0])\n",
    "    unigram_arr.append(unigram_freq[i][0])"
   ],
   "metadata": {
    "collapsed": false,
    "pycharm": {
     "name": "#%%\n"
    }
   }
  },
  {
   "cell_type": "code",
   "execution_count": 44,
   "outputs": [],
   "source": [
    "unigram_df = pd.DataFrame(unigram_arr)\n",
    "bigram_df = pd.DataFrame(bigram_arr)\n",
    "trigram_df = pd.DataFrame(trigram_arr)\n"
   ],
   "metadata": {
    "collapsed": false,
    "pycharm": {
     "name": "#%%\n"
    }
   }
  },
  {
   "cell_type": "code",
   "execution_count": 45,
   "outputs": [],
   "source": [
    "unigram_xlsx = unigram_df.to_excel('/Users/serragoker/Documents/GitHub/website-sg3390/unigram.xlsx')\n",
    "bigram_xlsx = bigram_df.to_excel('/Users/serragoker/Documents/GitHub/website-sg3390/bigram.xlsx')\n",
    "trigram_xlsx = trigram_df.to_excel('/Users/serragoker/Documents/GitHub/website-sg3390/trigram.xlsx')"
   ],
   "metadata": {
    "collapsed": false,
    "pycharm": {
     "name": "#%%\n"
    }
   }
  },
  {
   "cell_type": "code",
   "execution_count": null,
   "outputs": [],
   "source": [],
   "metadata": {
    "collapsed": false,
    "pycharm": {
     "name": "#%%\n"
    }
   }
  }
 ],
 "metadata": {
  "kernelspec": {
   "display_name": "Python 3",
   "language": "python",
   "name": "python3"
  },
  "language_info": {
   "codemirror_mode": {
    "name": "ipython",
    "version": 2
   },
   "file_extension": ".py",
   "mimetype": "text/x-python",
   "name": "python",
   "nbconvert_exporter": "python",
   "pygments_lexer": "ipython2",
   "version": "2.7.6"
  }
 },
 "nbformat": 4,
 "nbformat_minor": 0
}